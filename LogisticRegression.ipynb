{
  "nbformat": 4,
  "nbformat_minor": 0,
  "metadata": {
    "colab": {
      "name": "LogisticRegression.ipynb",
      "provenance": [],
      "collapsed_sections": []
    },
    "kernelspec": {
      "name": "python3",
      "display_name": "Python 3"
    },
    "language_info": {
      "name": "python"
    }
  },
  "cells": [
    {
      "cell_type": "code",
      "source": [
        "import pandas as pd\n",
        "import numpy as np\n",
        "import matplotlib.pyplot as plt\n",
        "import seaborn as sns\n",
        "from sklearn.impute import SimpleImputer\n",
        "from sklearn.feature_selection import SelectKBest\n",
        "from sklearn.feature_selection import chi2\n",
        "from imblearn.combine import SMOTETomek\n",
        "from sklearn.preprocessing import StandardScaler\n",
        "from sklearn.pipeline import Pipeline\n",
        "from sklearn.linear_model import LogisticRegression\n",
        "from sklearn.model_selection import train_test_split\n",
        "from sklearn.metrics import roc_curve, roc_auc_score\n",
        "from sklearn.model_selection import GridSearchCV\n",
        "import statsmodels.api as sm\n",
        "import statsmodels.formula.api as smf\n",
        "from sklearn.metrics import confusion_matrix\n",
        "from sklearn.metrics import accuracy_score\n",
        "from sklearn.metrics import classification_report\n",
        "from sklearn.compose import ColumnTransformer\n",
        "from sklearn.metrics import ConfusionMatrixDisplay"
      ],
      "metadata": {
        "id": "lZP95LV_-qbI"
      },
      "execution_count": 2,
      "outputs": []
    },
    {
      "cell_type": "markdown",
      "source": [
        "# A logistic regression model to predict whether the patient has 10-year risk of future coronary heart disease (CHD)."
      ],
      "metadata": {
        "id": "KJL8vn5yLJqk"
      }
    },
    {
      "cell_type": "markdown",
      "source": [
        "**MODEL 1**"
      ],
      "metadata": {
        "id": "aiFGlMAlG8rG"
      }
    },
    {
      "cell_type": "markdown",
      "source": [
        "Load data"
      ],
      "metadata": {
        "id": "-6b3vch9Lw8c"
      }
    },
    {
      "cell_type": "code",
      "source": [
        "heart2 = pd.read_csv(\"/content/Heart_Disease.csv\")"
      ],
      "metadata": {
        "id": "KY5MeMMIG6hg"
      },
      "execution_count": 3,
      "outputs": []
    },
    {
      "cell_type": "code",
      "source": [
        "heart2.head()"
      ],
      "metadata": {
        "colab": {
          "base_uri": "https://localhost:8080/",
          "height": 206
        },
        "id": "T6AYVLmJHfKY",
        "outputId": "1bb9ce4d-5389-444e-d3f1-a4a863ea3992"
      },
      "execution_count": 4,
      "outputs": [
        {
          "output_type": "execute_result",
          "data": {
            "text/plain": [
              "   male  age  education  currentSmoker  cigsPerDay  BPMeds  prevalentStroke  \\\n",
              "0     1   39        4.0              0         0.0     0.0                0   \n",
              "1     0   46        2.0              0         0.0     0.0                0   \n",
              "2     1   48        1.0              1        20.0     0.0                0   \n",
              "3     0   61        3.0              1        30.0     0.0                0   \n",
              "4     0   46        3.0              1        23.0     0.0                0   \n",
              "\n",
              "   prevalentHyp  diabetes  totChol  sysBP  diaBP    BMI  heartRate  glucose  \\\n",
              "0             0         0    195.0  106.0   70.0  26.97       80.0     77.0   \n",
              "1             0         0    250.0  121.0   81.0  28.73       95.0     76.0   \n",
              "2             0         0    245.0  127.5   80.0  25.34       75.0     70.0   \n",
              "3             1         0    225.0  150.0   95.0  28.58       65.0    103.0   \n",
              "4             0         0    285.0  130.0   84.0  23.10       85.0     85.0   \n",
              "\n",
              "   TenYearCHD  \n",
              "0           0  \n",
              "1           0  \n",
              "2           0  \n",
              "3           1  \n",
              "4           0  "
            ],
            "text/html": [
              "\n",
              "  <div id=\"df-63f5a32b-4fd1-48e9-a49f-9049fe613d83\">\n",
              "    <div class=\"colab-df-container\">\n",
              "      <div>\n",
              "<style scoped>\n",
              "    .dataframe tbody tr th:only-of-type {\n",
              "        vertical-align: middle;\n",
              "    }\n",
              "\n",
              "    .dataframe tbody tr th {\n",
              "        vertical-align: top;\n",
              "    }\n",
              "\n",
              "    .dataframe thead th {\n",
              "        text-align: right;\n",
              "    }\n",
              "</style>\n",
              "<table border=\"1\" class=\"dataframe\">\n",
              "  <thead>\n",
              "    <tr style=\"text-align: right;\">\n",
              "      <th></th>\n",
              "      <th>male</th>\n",
              "      <th>age</th>\n",
              "      <th>education</th>\n",
              "      <th>currentSmoker</th>\n",
              "      <th>cigsPerDay</th>\n",
              "      <th>BPMeds</th>\n",
              "      <th>prevalentStroke</th>\n",
              "      <th>prevalentHyp</th>\n",
              "      <th>diabetes</th>\n",
              "      <th>totChol</th>\n",
              "      <th>sysBP</th>\n",
              "      <th>diaBP</th>\n",
              "      <th>BMI</th>\n",
              "      <th>heartRate</th>\n",
              "      <th>glucose</th>\n",
              "      <th>TenYearCHD</th>\n",
              "    </tr>\n",
              "  </thead>\n",
              "  <tbody>\n",
              "    <tr>\n",
              "      <th>0</th>\n",
              "      <td>1</td>\n",
              "      <td>39</td>\n",
              "      <td>4.0</td>\n",
              "      <td>0</td>\n",
              "      <td>0.0</td>\n",
              "      <td>0.0</td>\n",
              "      <td>0</td>\n",
              "      <td>0</td>\n",
              "      <td>0</td>\n",
              "      <td>195.0</td>\n",
              "      <td>106.0</td>\n",
              "      <td>70.0</td>\n",
              "      <td>26.97</td>\n",
              "      <td>80.0</td>\n",
              "      <td>77.0</td>\n",
              "      <td>0</td>\n",
              "    </tr>\n",
              "    <tr>\n",
              "      <th>1</th>\n",
              "      <td>0</td>\n",
              "      <td>46</td>\n",
              "      <td>2.0</td>\n",
              "      <td>0</td>\n",
              "      <td>0.0</td>\n",
              "      <td>0.0</td>\n",
              "      <td>0</td>\n",
              "      <td>0</td>\n",
              "      <td>0</td>\n",
              "      <td>250.0</td>\n",
              "      <td>121.0</td>\n",
              "      <td>81.0</td>\n",
              "      <td>28.73</td>\n",
              "      <td>95.0</td>\n",
              "      <td>76.0</td>\n",
              "      <td>0</td>\n",
              "    </tr>\n",
              "    <tr>\n",
              "      <th>2</th>\n",
              "      <td>1</td>\n",
              "      <td>48</td>\n",
              "      <td>1.0</td>\n",
              "      <td>1</td>\n",
              "      <td>20.0</td>\n",
              "      <td>0.0</td>\n",
              "      <td>0</td>\n",
              "      <td>0</td>\n",
              "      <td>0</td>\n",
              "      <td>245.0</td>\n",
              "      <td>127.5</td>\n",
              "      <td>80.0</td>\n",
              "      <td>25.34</td>\n",
              "      <td>75.0</td>\n",
              "      <td>70.0</td>\n",
              "      <td>0</td>\n",
              "    </tr>\n",
              "    <tr>\n",
              "      <th>3</th>\n",
              "      <td>0</td>\n",
              "      <td>61</td>\n",
              "      <td>3.0</td>\n",
              "      <td>1</td>\n",
              "      <td>30.0</td>\n",
              "      <td>0.0</td>\n",
              "      <td>0</td>\n",
              "      <td>1</td>\n",
              "      <td>0</td>\n",
              "      <td>225.0</td>\n",
              "      <td>150.0</td>\n",
              "      <td>95.0</td>\n",
              "      <td>28.58</td>\n",
              "      <td>65.0</td>\n",
              "      <td>103.0</td>\n",
              "      <td>1</td>\n",
              "    </tr>\n",
              "    <tr>\n",
              "      <th>4</th>\n",
              "      <td>0</td>\n",
              "      <td>46</td>\n",
              "      <td>3.0</td>\n",
              "      <td>1</td>\n",
              "      <td>23.0</td>\n",
              "      <td>0.0</td>\n",
              "      <td>0</td>\n",
              "      <td>0</td>\n",
              "      <td>0</td>\n",
              "      <td>285.0</td>\n",
              "      <td>130.0</td>\n",
              "      <td>84.0</td>\n",
              "      <td>23.10</td>\n",
              "      <td>85.0</td>\n",
              "      <td>85.0</td>\n",
              "      <td>0</td>\n",
              "    </tr>\n",
              "  </tbody>\n",
              "</table>\n",
              "</div>\n",
              "      <button class=\"colab-df-convert\" onclick=\"convertToInteractive('df-63f5a32b-4fd1-48e9-a49f-9049fe613d83')\"\n",
              "              title=\"Convert this dataframe to an interactive table.\"\n",
              "              style=\"display:none;\">\n",
              "        \n",
              "  <svg xmlns=\"http://www.w3.org/2000/svg\" height=\"24px\"viewBox=\"0 0 24 24\"\n",
              "       width=\"24px\">\n",
              "    <path d=\"M0 0h24v24H0V0z\" fill=\"none\"/>\n",
              "    <path d=\"M18.56 5.44l.94 2.06.94-2.06 2.06-.94-2.06-.94-.94-2.06-.94 2.06-2.06.94zm-11 1L8.5 8.5l.94-2.06 2.06-.94-2.06-.94L8.5 2.5l-.94 2.06-2.06.94zm10 10l.94 2.06.94-2.06 2.06-.94-2.06-.94-.94-2.06-.94 2.06-2.06.94z\"/><path d=\"M17.41 7.96l-1.37-1.37c-.4-.4-.92-.59-1.43-.59-.52 0-1.04.2-1.43.59L10.3 9.45l-7.72 7.72c-.78.78-.78 2.05 0 2.83L4 21.41c.39.39.9.59 1.41.59.51 0 1.02-.2 1.41-.59l7.78-7.78 2.81-2.81c.8-.78.8-2.07 0-2.86zM5.41 20L4 18.59l7.72-7.72 1.47 1.35L5.41 20z\"/>\n",
              "  </svg>\n",
              "      </button>\n",
              "      \n",
              "  <style>\n",
              "    .colab-df-container {\n",
              "      display:flex;\n",
              "      flex-wrap:wrap;\n",
              "      gap: 12px;\n",
              "    }\n",
              "\n",
              "    .colab-df-convert {\n",
              "      background-color: #E8F0FE;\n",
              "      border: none;\n",
              "      border-radius: 50%;\n",
              "      cursor: pointer;\n",
              "      display: none;\n",
              "      fill: #1967D2;\n",
              "      height: 32px;\n",
              "      padding: 0 0 0 0;\n",
              "      width: 32px;\n",
              "    }\n",
              "\n",
              "    .colab-df-convert:hover {\n",
              "      background-color: #E2EBFA;\n",
              "      box-shadow: 0px 1px 2px rgba(60, 64, 67, 0.3), 0px 1px 3px 1px rgba(60, 64, 67, 0.15);\n",
              "      fill: #174EA6;\n",
              "    }\n",
              "\n",
              "    [theme=dark] .colab-df-convert {\n",
              "      background-color: #3B4455;\n",
              "      fill: #D2E3FC;\n",
              "    }\n",
              "\n",
              "    [theme=dark] .colab-df-convert:hover {\n",
              "      background-color: #434B5C;\n",
              "      box-shadow: 0px 1px 3px 1px rgba(0, 0, 0, 0.15);\n",
              "      filter: drop-shadow(0px 1px 2px rgba(0, 0, 0, 0.3));\n",
              "      fill: #FFFFFF;\n",
              "    }\n",
              "  </style>\n",
              "\n",
              "      <script>\n",
              "        const buttonEl =\n",
              "          document.querySelector('#df-63f5a32b-4fd1-48e9-a49f-9049fe613d83 button.colab-df-convert');\n",
              "        buttonEl.style.display =\n",
              "          google.colab.kernel.accessAllowed ? 'block' : 'none';\n",
              "\n",
              "        async function convertToInteractive(key) {\n",
              "          const element = document.querySelector('#df-63f5a32b-4fd1-48e9-a49f-9049fe613d83');\n",
              "          const dataTable =\n",
              "            await google.colab.kernel.invokeFunction('convertToInteractive',\n",
              "                                                     [key], {});\n",
              "          if (!dataTable) return;\n",
              "\n",
              "          const docLinkHtml = 'Like what you see? Visit the ' +\n",
              "            '<a target=\"_blank\" href=https://colab.research.google.com/notebooks/data_table.ipynb>data table notebook</a>'\n",
              "            + ' to learn more about interactive tables.';\n",
              "          element.innerHTML = '';\n",
              "          dataTable['output_type'] = 'display_data';\n",
              "          await google.colab.output.renderOutput(dataTable, element);\n",
              "          const docLink = document.createElement('div');\n",
              "          docLink.innerHTML = docLinkHtml;\n",
              "          element.appendChild(docLink);\n",
              "        }\n",
              "      </script>\n",
              "    </div>\n",
              "  </div>\n",
              "  "
            ]
          },
          "metadata": {},
          "execution_count": 4
        }
      ]
    },
    {
      "cell_type": "code",
      "source": [
        "heart2.describe()"
      ],
      "metadata": {
        "colab": {
          "base_uri": "https://localhost:8080/",
          "height": 364
        },
        "id": "BXW9o3i4HsfW",
        "outputId": "c3ee815c-ed4e-4b08-cf45-25d3559eb685"
      },
      "execution_count": 5,
      "outputs": [
        {
          "output_type": "execute_result",
          "data": {
            "text/plain": [
              "              male          age    education  currentSmoker   cigsPerDay  \\\n",
              "count  4238.000000  4238.000000  4133.000000    4238.000000  4209.000000   \n",
              "mean      0.429212    49.584946     1.978950       0.494101     9.003089   \n",
              "std       0.495022     8.572160     1.019791       0.500024    11.920094   \n",
              "min       0.000000    32.000000     1.000000       0.000000     0.000000   \n",
              "25%       0.000000    42.000000     1.000000       0.000000     0.000000   \n",
              "50%       0.000000    49.000000     2.000000       0.000000     0.000000   \n",
              "75%       1.000000    56.000000     3.000000       1.000000    20.000000   \n",
              "max       1.000000    70.000000     4.000000       1.000000    70.000000   \n",
              "\n",
              "            BPMeds  prevalentStroke  prevalentHyp     diabetes      totChol  \\\n",
              "count  4185.000000      4238.000000   4238.000000  4238.000000  4188.000000   \n",
              "mean      0.029630         0.005899      0.310524     0.025720   236.721585   \n",
              "std       0.169584         0.076587      0.462763     0.158316    44.590334   \n",
              "min       0.000000         0.000000      0.000000     0.000000   107.000000   \n",
              "25%       0.000000         0.000000      0.000000     0.000000   206.000000   \n",
              "50%       0.000000         0.000000      0.000000     0.000000   234.000000   \n",
              "75%       0.000000         0.000000      1.000000     0.000000   263.000000   \n",
              "max       1.000000         1.000000      1.000000     1.000000   696.000000   \n",
              "\n",
              "             sysBP        diaBP          BMI    heartRate      glucose  \\\n",
              "count  4238.000000  4238.000000  4219.000000  4237.000000  3850.000000   \n",
              "mean    132.352407    82.893464    25.802008    75.878924    81.966753   \n",
              "std      22.038097    11.910850     4.080111    12.026596    23.959998   \n",
              "min      83.500000    48.000000    15.540000    44.000000    40.000000   \n",
              "25%     117.000000    75.000000    23.070000    68.000000    71.000000   \n",
              "50%     128.000000    82.000000    25.400000    75.000000    78.000000   \n",
              "75%     144.000000    89.875000    28.040000    83.000000    87.000000   \n",
              "max     295.000000   142.500000    56.800000   143.000000   394.000000   \n",
              "\n",
              "        TenYearCHD  \n",
              "count  4238.000000  \n",
              "mean      0.151958  \n",
              "std       0.359023  \n",
              "min       0.000000  \n",
              "25%       0.000000  \n",
              "50%       0.000000  \n",
              "75%       0.000000  \n",
              "max       1.000000  "
            ],
            "text/html": [
              "\n",
              "  <div id=\"df-8b261216-a602-4582-843c-d43d71066281\">\n",
              "    <div class=\"colab-df-container\">\n",
              "      <div>\n",
              "<style scoped>\n",
              "    .dataframe tbody tr th:only-of-type {\n",
              "        vertical-align: middle;\n",
              "    }\n",
              "\n",
              "    .dataframe tbody tr th {\n",
              "        vertical-align: top;\n",
              "    }\n",
              "\n",
              "    .dataframe thead th {\n",
              "        text-align: right;\n",
              "    }\n",
              "</style>\n",
              "<table border=\"1\" class=\"dataframe\">\n",
              "  <thead>\n",
              "    <tr style=\"text-align: right;\">\n",
              "      <th></th>\n",
              "      <th>male</th>\n",
              "      <th>age</th>\n",
              "      <th>education</th>\n",
              "      <th>currentSmoker</th>\n",
              "      <th>cigsPerDay</th>\n",
              "      <th>BPMeds</th>\n",
              "      <th>prevalentStroke</th>\n",
              "      <th>prevalentHyp</th>\n",
              "      <th>diabetes</th>\n",
              "      <th>totChol</th>\n",
              "      <th>sysBP</th>\n",
              "      <th>diaBP</th>\n",
              "      <th>BMI</th>\n",
              "      <th>heartRate</th>\n",
              "      <th>glucose</th>\n",
              "      <th>TenYearCHD</th>\n",
              "    </tr>\n",
              "  </thead>\n",
              "  <tbody>\n",
              "    <tr>\n",
              "      <th>count</th>\n",
              "      <td>4238.000000</td>\n",
              "      <td>4238.000000</td>\n",
              "      <td>4133.000000</td>\n",
              "      <td>4238.000000</td>\n",
              "      <td>4209.000000</td>\n",
              "      <td>4185.000000</td>\n",
              "      <td>4238.000000</td>\n",
              "      <td>4238.000000</td>\n",
              "      <td>4238.000000</td>\n",
              "      <td>4188.000000</td>\n",
              "      <td>4238.000000</td>\n",
              "      <td>4238.000000</td>\n",
              "      <td>4219.000000</td>\n",
              "      <td>4237.000000</td>\n",
              "      <td>3850.000000</td>\n",
              "      <td>4238.000000</td>\n",
              "    </tr>\n",
              "    <tr>\n",
              "      <th>mean</th>\n",
              "      <td>0.429212</td>\n",
              "      <td>49.584946</td>\n",
              "      <td>1.978950</td>\n",
              "      <td>0.494101</td>\n",
              "      <td>9.003089</td>\n",
              "      <td>0.029630</td>\n",
              "      <td>0.005899</td>\n",
              "      <td>0.310524</td>\n",
              "      <td>0.025720</td>\n",
              "      <td>236.721585</td>\n",
              "      <td>132.352407</td>\n",
              "      <td>82.893464</td>\n",
              "      <td>25.802008</td>\n",
              "      <td>75.878924</td>\n",
              "      <td>81.966753</td>\n",
              "      <td>0.151958</td>\n",
              "    </tr>\n",
              "    <tr>\n",
              "      <th>std</th>\n",
              "      <td>0.495022</td>\n",
              "      <td>8.572160</td>\n",
              "      <td>1.019791</td>\n",
              "      <td>0.500024</td>\n",
              "      <td>11.920094</td>\n",
              "      <td>0.169584</td>\n",
              "      <td>0.076587</td>\n",
              "      <td>0.462763</td>\n",
              "      <td>0.158316</td>\n",
              "      <td>44.590334</td>\n",
              "      <td>22.038097</td>\n",
              "      <td>11.910850</td>\n",
              "      <td>4.080111</td>\n",
              "      <td>12.026596</td>\n",
              "      <td>23.959998</td>\n",
              "      <td>0.359023</td>\n",
              "    </tr>\n",
              "    <tr>\n",
              "      <th>min</th>\n",
              "      <td>0.000000</td>\n",
              "      <td>32.000000</td>\n",
              "      <td>1.000000</td>\n",
              "      <td>0.000000</td>\n",
              "      <td>0.000000</td>\n",
              "      <td>0.000000</td>\n",
              "      <td>0.000000</td>\n",
              "      <td>0.000000</td>\n",
              "      <td>0.000000</td>\n",
              "      <td>107.000000</td>\n",
              "      <td>83.500000</td>\n",
              "      <td>48.000000</td>\n",
              "      <td>15.540000</td>\n",
              "      <td>44.000000</td>\n",
              "      <td>40.000000</td>\n",
              "      <td>0.000000</td>\n",
              "    </tr>\n",
              "    <tr>\n",
              "      <th>25%</th>\n",
              "      <td>0.000000</td>\n",
              "      <td>42.000000</td>\n",
              "      <td>1.000000</td>\n",
              "      <td>0.000000</td>\n",
              "      <td>0.000000</td>\n",
              "      <td>0.000000</td>\n",
              "      <td>0.000000</td>\n",
              "      <td>0.000000</td>\n",
              "      <td>0.000000</td>\n",
              "      <td>206.000000</td>\n",
              "      <td>117.000000</td>\n",
              "      <td>75.000000</td>\n",
              "      <td>23.070000</td>\n",
              "      <td>68.000000</td>\n",
              "      <td>71.000000</td>\n",
              "      <td>0.000000</td>\n",
              "    </tr>\n",
              "    <tr>\n",
              "      <th>50%</th>\n",
              "      <td>0.000000</td>\n",
              "      <td>49.000000</td>\n",
              "      <td>2.000000</td>\n",
              "      <td>0.000000</td>\n",
              "      <td>0.000000</td>\n",
              "      <td>0.000000</td>\n",
              "      <td>0.000000</td>\n",
              "      <td>0.000000</td>\n",
              "      <td>0.000000</td>\n",
              "      <td>234.000000</td>\n",
              "      <td>128.000000</td>\n",
              "      <td>82.000000</td>\n",
              "      <td>25.400000</td>\n",
              "      <td>75.000000</td>\n",
              "      <td>78.000000</td>\n",
              "      <td>0.000000</td>\n",
              "    </tr>\n",
              "    <tr>\n",
              "      <th>75%</th>\n",
              "      <td>1.000000</td>\n",
              "      <td>56.000000</td>\n",
              "      <td>3.000000</td>\n",
              "      <td>1.000000</td>\n",
              "      <td>20.000000</td>\n",
              "      <td>0.000000</td>\n",
              "      <td>0.000000</td>\n",
              "      <td>1.000000</td>\n",
              "      <td>0.000000</td>\n",
              "      <td>263.000000</td>\n",
              "      <td>144.000000</td>\n",
              "      <td>89.875000</td>\n",
              "      <td>28.040000</td>\n",
              "      <td>83.000000</td>\n",
              "      <td>87.000000</td>\n",
              "      <td>0.000000</td>\n",
              "    </tr>\n",
              "    <tr>\n",
              "      <th>max</th>\n",
              "      <td>1.000000</td>\n",
              "      <td>70.000000</td>\n",
              "      <td>4.000000</td>\n",
              "      <td>1.000000</td>\n",
              "      <td>70.000000</td>\n",
              "      <td>1.000000</td>\n",
              "      <td>1.000000</td>\n",
              "      <td>1.000000</td>\n",
              "      <td>1.000000</td>\n",
              "      <td>696.000000</td>\n",
              "      <td>295.000000</td>\n",
              "      <td>142.500000</td>\n",
              "      <td>56.800000</td>\n",
              "      <td>143.000000</td>\n",
              "      <td>394.000000</td>\n",
              "      <td>1.000000</td>\n",
              "    </tr>\n",
              "  </tbody>\n",
              "</table>\n",
              "</div>\n",
              "      <button class=\"colab-df-convert\" onclick=\"convertToInteractive('df-8b261216-a602-4582-843c-d43d71066281')\"\n",
              "              title=\"Convert this dataframe to an interactive table.\"\n",
              "              style=\"display:none;\">\n",
              "        \n",
              "  <svg xmlns=\"http://www.w3.org/2000/svg\" height=\"24px\"viewBox=\"0 0 24 24\"\n",
              "       width=\"24px\">\n",
              "    <path d=\"M0 0h24v24H0V0z\" fill=\"none\"/>\n",
              "    <path d=\"M18.56 5.44l.94 2.06.94-2.06 2.06-.94-2.06-.94-.94-2.06-.94 2.06-2.06.94zm-11 1L8.5 8.5l.94-2.06 2.06-.94-2.06-.94L8.5 2.5l-.94 2.06-2.06.94zm10 10l.94 2.06.94-2.06 2.06-.94-2.06-.94-.94-2.06-.94 2.06-2.06.94z\"/><path d=\"M17.41 7.96l-1.37-1.37c-.4-.4-.92-.59-1.43-.59-.52 0-1.04.2-1.43.59L10.3 9.45l-7.72 7.72c-.78.78-.78 2.05 0 2.83L4 21.41c.39.39.9.59 1.41.59.51 0 1.02-.2 1.41-.59l7.78-7.78 2.81-2.81c.8-.78.8-2.07 0-2.86zM5.41 20L4 18.59l7.72-7.72 1.47 1.35L5.41 20z\"/>\n",
              "  </svg>\n",
              "      </button>\n",
              "      \n",
              "  <style>\n",
              "    .colab-df-container {\n",
              "      display:flex;\n",
              "      flex-wrap:wrap;\n",
              "      gap: 12px;\n",
              "    }\n",
              "\n",
              "    .colab-df-convert {\n",
              "      background-color: #E8F0FE;\n",
              "      border: none;\n",
              "      border-radius: 50%;\n",
              "      cursor: pointer;\n",
              "      display: none;\n",
              "      fill: #1967D2;\n",
              "      height: 32px;\n",
              "      padding: 0 0 0 0;\n",
              "      width: 32px;\n",
              "    }\n",
              "\n",
              "    .colab-df-convert:hover {\n",
              "      background-color: #E2EBFA;\n",
              "      box-shadow: 0px 1px 2px rgba(60, 64, 67, 0.3), 0px 1px 3px 1px rgba(60, 64, 67, 0.15);\n",
              "      fill: #174EA6;\n",
              "    }\n",
              "\n",
              "    [theme=dark] .colab-df-convert {\n",
              "      background-color: #3B4455;\n",
              "      fill: #D2E3FC;\n",
              "    }\n",
              "\n",
              "    [theme=dark] .colab-df-convert:hover {\n",
              "      background-color: #434B5C;\n",
              "      box-shadow: 0px 1px 3px 1px rgba(0, 0, 0, 0.15);\n",
              "      filter: drop-shadow(0px 1px 2px rgba(0, 0, 0, 0.3));\n",
              "      fill: #FFFFFF;\n",
              "    }\n",
              "  </style>\n",
              "\n",
              "      <script>\n",
              "        const buttonEl =\n",
              "          document.querySelector('#df-8b261216-a602-4582-843c-d43d71066281 button.colab-df-convert');\n",
              "        buttonEl.style.display =\n",
              "          google.colab.kernel.accessAllowed ? 'block' : 'none';\n",
              "\n",
              "        async function convertToInteractive(key) {\n",
              "          const element = document.querySelector('#df-8b261216-a602-4582-843c-d43d71066281');\n",
              "          const dataTable =\n",
              "            await google.colab.kernel.invokeFunction('convertToInteractive',\n",
              "                                                     [key], {});\n",
              "          if (!dataTable) return;\n",
              "\n",
              "          const docLinkHtml = 'Like what you see? Visit the ' +\n",
              "            '<a target=\"_blank\" href=https://colab.research.google.com/notebooks/data_table.ipynb>data table notebook</a>'\n",
              "            + ' to learn more about interactive tables.';\n",
              "          element.innerHTML = '';\n",
              "          dataTable['output_type'] = 'display_data';\n",
              "          await google.colab.output.renderOutput(dataTable, element);\n",
              "          const docLink = document.createElement('div');\n",
              "          docLink.innerHTML = docLinkHtml;\n",
              "          element.appendChild(docLink);\n",
              "        }\n",
              "      </script>\n",
              "    </div>\n",
              "  </div>\n",
              "  "
            ]
          },
          "metadata": {},
          "execution_count": 5
        }
      ]
    },
    {
      "cell_type": "code",
      "source": [
        "var_df = heart2.iloc[: , :15]\n",
        "var_df.head()"
      ],
      "metadata": {
        "colab": {
          "base_uri": "https://localhost:8080/",
          "height": 206
        },
        "id": "KT_yf974H9cW",
        "outputId": "61b487b6-986f-46a4-a94f-d4c3d6aa2c1c"
      },
      "execution_count": 6,
      "outputs": [
        {
          "output_type": "execute_result",
          "data": {
            "text/plain": [
              "   male  age  education  currentSmoker  cigsPerDay  BPMeds  prevalentStroke  \\\n",
              "0     1   39        4.0              0         0.0     0.0                0   \n",
              "1     0   46        2.0              0         0.0     0.0                0   \n",
              "2     1   48        1.0              1        20.0     0.0                0   \n",
              "3     0   61        3.0              1        30.0     0.0                0   \n",
              "4     0   46        3.0              1        23.0     0.0                0   \n",
              "\n",
              "   prevalentHyp  diabetes  totChol  sysBP  diaBP    BMI  heartRate  glucose  \n",
              "0             0         0    195.0  106.0   70.0  26.97       80.0     77.0  \n",
              "1             0         0    250.0  121.0   81.0  28.73       95.0     76.0  \n",
              "2             0         0    245.0  127.5   80.0  25.34       75.0     70.0  \n",
              "3             1         0    225.0  150.0   95.0  28.58       65.0    103.0  \n",
              "4             0         0    285.0  130.0   84.0  23.10       85.0     85.0  "
            ],
            "text/html": [
              "\n",
              "  <div id=\"df-c837a660-1f03-45d8-bf60-ca85cb1dae15\">\n",
              "    <div class=\"colab-df-container\">\n",
              "      <div>\n",
              "<style scoped>\n",
              "    .dataframe tbody tr th:only-of-type {\n",
              "        vertical-align: middle;\n",
              "    }\n",
              "\n",
              "    .dataframe tbody tr th {\n",
              "        vertical-align: top;\n",
              "    }\n",
              "\n",
              "    .dataframe thead th {\n",
              "        text-align: right;\n",
              "    }\n",
              "</style>\n",
              "<table border=\"1\" class=\"dataframe\">\n",
              "  <thead>\n",
              "    <tr style=\"text-align: right;\">\n",
              "      <th></th>\n",
              "      <th>male</th>\n",
              "      <th>age</th>\n",
              "      <th>education</th>\n",
              "      <th>currentSmoker</th>\n",
              "      <th>cigsPerDay</th>\n",
              "      <th>BPMeds</th>\n",
              "      <th>prevalentStroke</th>\n",
              "      <th>prevalentHyp</th>\n",
              "      <th>diabetes</th>\n",
              "      <th>totChol</th>\n",
              "      <th>sysBP</th>\n",
              "      <th>diaBP</th>\n",
              "      <th>BMI</th>\n",
              "      <th>heartRate</th>\n",
              "      <th>glucose</th>\n",
              "    </tr>\n",
              "  </thead>\n",
              "  <tbody>\n",
              "    <tr>\n",
              "      <th>0</th>\n",
              "      <td>1</td>\n",
              "      <td>39</td>\n",
              "      <td>4.0</td>\n",
              "      <td>0</td>\n",
              "      <td>0.0</td>\n",
              "      <td>0.0</td>\n",
              "      <td>0</td>\n",
              "      <td>0</td>\n",
              "      <td>0</td>\n",
              "      <td>195.0</td>\n",
              "      <td>106.0</td>\n",
              "      <td>70.0</td>\n",
              "      <td>26.97</td>\n",
              "      <td>80.0</td>\n",
              "      <td>77.0</td>\n",
              "    </tr>\n",
              "    <tr>\n",
              "      <th>1</th>\n",
              "      <td>0</td>\n",
              "      <td>46</td>\n",
              "      <td>2.0</td>\n",
              "      <td>0</td>\n",
              "      <td>0.0</td>\n",
              "      <td>0.0</td>\n",
              "      <td>0</td>\n",
              "      <td>0</td>\n",
              "      <td>0</td>\n",
              "      <td>250.0</td>\n",
              "      <td>121.0</td>\n",
              "      <td>81.0</td>\n",
              "      <td>28.73</td>\n",
              "      <td>95.0</td>\n",
              "      <td>76.0</td>\n",
              "    </tr>\n",
              "    <tr>\n",
              "      <th>2</th>\n",
              "      <td>1</td>\n",
              "      <td>48</td>\n",
              "      <td>1.0</td>\n",
              "      <td>1</td>\n",
              "      <td>20.0</td>\n",
              "      <td>0.0</td>\n",
              "      <td>0</td>\n",
              "      <td>0</td>\n",
              "      <td>0</td>\n",
              "      <td>245.0</td>\n",
              "      <td>127.5</td>\n",
              "      <td>80.0</td>\n",
              "      <td>25.34</td>\n",
              "      <td>75.0</td>\n",
              "      <td>70.0</td>\n",
              "    </tr>\n",
              "    <tr>\n",
              "      <th>3</th>\n",
              "      <td>0</td>\n",
              "      <td>61</td>\n",
              "      <td>3.0</td>\n",
              "      <td>1</td>\n",
              "      <td>30.0</td>\n",
              "      <td>0.0</td>\n",
              "      <td>0</td>\n",
              "      <td>1</td>\n",
              "      <td>0</td>\n",
              "      <td>225.0</td>\n",
              "      <td>150.0</td>\n",
              "      <td>95.0</td>\n",
              "      <td>28.58</td>\n",
              "      <td>65.0</td>\n",
              "      <td>103.0</td>\n",
              "    </tr>\n",
              "    <tr>\n",
              "      <th>4</th>\n",
              "      <td>0</td>\n",
              "      <td>46</td>\n",
              "      <td>3.0</td>\n",
              "      <td>1</td>\n",
              "      <td>23.0</td>\n",
              "      <td>0.0</td>\n",
              "      <td>0</td>\n",
              "      <td>0</td>\n",
              "      <td>0</td>\n",
              "      <td>285.0</td>\n",
              "      <td>130.0</td>\n",
              "      <td>84.0</td>\n",
              "      <td>23.10</td>\n",
              "      <td>85.0</td>\n",
              "      <td>85.0</td>\n",
              "    </tr>\n",
              "  </tbody>\n",
              "</table>\n",
              "</div>\n",
              "      <button class=\"colab-df-convert\" onclick=\"convertToInteractive('df-c837a660-1f03-45d8-bf60-ca85cb1dae15')\"\n",
              "              title=\"Convert this dataframe to an interactive table.\"\n",
              "              style=\"display:none;\">\n",
              "        \n",
              "  <svg xmlns=\"http://www.w3.org/2000/svg\" height=\"24px\"viewBox=\"0 0 24 24\"\n",
              "       width=\"24px\">\n",
              "    <path d=\"M0 0h24v24H0V0z\" fill=\"none\"/>\n",
              "    <path d=\"M18.56 5.44l.94 2.06.94-2.06 2.06-.94-2.06-.94-.94-2.06-.94 2.06-2.06.94zm-11 1L8.5 8.5l.94-2.06 2.06-.94-2.06-.94L8.5 2.5l-.94 2.06-2.06.94zm10 10l.94 2.06.94-2.06 2.06-.94-2.06-.94-.94-2.06-.94 2.06-2.06.94z\"/><path d=\"M17.41 7.96l-1.37-1.37c-.4-.4-.92-.59-1.43-.59-.52 0-1.04.2-1.43.59L10.3 9.45l-7.72 7.72c-.78.78-.78 2.05 0 2.83L4 21.41c.39.39.9.59 1.41.59.51 0 1.02-.2 1.41-.59l7.78-7.78 2.81-2.81c.8-.78.8-2.07 0-2.86zM5.41 20L4 18.59l7.72-7.72 1.47 1.35L5.41 20z\"/>\n",
              "  </svg>\n",
              "      </button>\n",
              "      \n",
              "  <style>\n",
              "    .colab-df-container {\n",
              "      display:flex;\n",
              "      flex-wrap:wrap;\n",
              "      gap: 12px;\n",
              "    }\n",
              "\n",
              "    .colab-df-convert {\n",
              "      background-color: #E8F0FE;\n",
              "      border: none;\n",
              "      border-radius: 50%;\n",
              "      cursor: pointer;\n",
              "      display: none;\n",
              "      fill: #1967D2;\n",
              "      height: 32px;\n",
              "      padding: 0 0 0 0;\n",
              "      width: 32px;\n",
              "    }\n",
              "\n",
              "    .colab-df-convert:hover {\n",
              "      background-color: #E2EBFA;\n",
              "      box-shadow: 0px 1px 2px rgba(60, 64, 67, 0.3), 0px 1px 3px 1px rgba(60, 64, 67, 0.15);\n",
              "      fill: #174EA6;\n",
              "    }\n",
              "\n",
              "    [theme=dark] .colab-df-convert {\n",
              "      background-color: #3B4455;\n",
              "      fill: #D2E3FC;\n",
              "    }\n",
              "\n",
              "    [theme=dark] .colab-df-convert:hover {\n",
              "      background-color: #434B5C;\n",
              "      box-shadow: 0px 1px 3px 1px rgba(0, 0, 0, 0.15);\n",
              "      filter: drop-shadow(0px 1px 2px rgba(0, 0, 0, 0.3));\n",
              "      fill: #FFFFFF;\n",
              "    }\n",
              "  </style>\n",
              "\n",
              "      <script>\n",
              "        const buttonEl =\n",
              "          document.querySelector('#df-c837a660-1f03-45d8-bf60-ca85cb1dae15 button.colab-df-convert');\n",
              "        buttonEl.style.display =\n",
              "          google.colab.kernel.accessAllowed ? 'block' : 'none';\n",
              "\n",
              "        async function convertToInteractive(key) {\n",
              "          const element = document.querySelector('#df-c837a660-1f03-45d8-bf60-ca85cb1dae15');\n",
              "          const dataTable =\n",
              "            await google.colab.kernel.invokeFunction('convertToInteractive',\n",
              "                                                     [key], {});\n",
              "          if (!dataTable) return;\n",
              "\n",
              "          const docLinkHtml = 'Like what you see? Visit the ' +\n",
              "            '<a target=\"_blank\" href=https://colab.research.google.com/notebooks/data_table.ipynb>data table notebook</a>'\n",
              "            + ' to learn more about interactive tables.';\n",
              "          element.innerHTML = '';\n",
              "          dataTable['output_type'] = 'display_data';\n",
              "          await google.colab.output.renderOutput(dataTable, element);\n",
              "          const docLink = document.createElement('div');\n",
              "          docLink.innerHTML = docLinkHtml;\n",
              "          element.appendChild(docLink);\n",
              "        }\n",
              "      </script>\n",
              "    </div>\n",
              "  </div>\n",
              "  "
            ]
          },
          "metadata": {},
          "execution_count": 6
        }
      ]
    },
    {
      "cell_type": "code",
      "source": [
        "X = pd.DataFrame(var_df)\n"
      ],
      "metadata": {
        "id": "YR0rlZdwIJ7r"
      },
      "execution_count": 7,
      "outputs": []
    },
    {
      "cell_type": "code",
      "source": [
        "y_var = heart2.iloc[:,-1]\n"
      ],
      "metadata": {
        "id": "xLdjOotVKMss"
      },
      "execution_count": 8,
      "outputs": []
    },
    {
      "cell_type": "code",
      "source": [
        "y = pd.DataFrame(y_var)\n",
        "y.head()"
      ],
      "metadata": {
        "id": "cS5Z-jFLIY8B",
        "colab": {
          "base_uri": "https://localhost:8080/",
          "height": 206
        },
        "outputId": "7ad1e204-72d4-4dfc-edd1-8582d03269b4"
      },
      "execution_count": 9,
      "outputs": [
        {
          "output_type": "execute_result",
          "data": {
            "text/plain": [
              "   TenYearCHD\n",
              "0           0\n",
              "1           0\n",
              "2           0\n",
              "3           1\n",
              "4           0"
            ],
            "text/html": [
              "\n",
              "  <div id=\"df-d8dc7f72-4aa6-4168-9d67-1593da875994\">\n",
              "    <div class=\"colab-df-container\">\n",
              "      <div>\n",
              "<style scoped>\n",
              "    .dataframe tbody tr th:only-of-type {\n",
              "        vertical-align: middle;\n",
              "    }\n",
              "\n",
              "    .dataframe tbody tr th {\n",
              "        vertical-align: top;\n",
              "    }\n",
              "\n",
              "    .dataframe thead th {\n",
              "        text-align: right;\n",
              "    }\n",
              "</style>\n",
              "<table border=\"1\" class=\"dataframe\">\n",
              "  <thead>\n",
              "    <tr style=\"text-align: right;\">\n",
              "      <th></th>\n",
              "      <th>TenYearCHD</th>\n",
              "    </tr>\n",
              "  </thead>\n",
              "  <tbody>\n",
              "    <tr>\n",
              "      <th>0</th>\n",
              "      <td>0</td>\n",
              "    </tr>\n",
              "    <tr>\n",
              "      <th>1</th>\n",
              "      <td>0</td>\n",
              "    </tr>\n",
              "    <tr>\n",
              "      <th>2</th>\n",
              "      <td>0</td>\n",
              "    </tr>\n",
              "    <tr>\n",
              "      <th>3</th>\n",
              "      <td>1</td>\n",
              "    </tr>\n",
              "    <tr>\n",
              "      <th>4</th>\n",
              "      <td>0</td>\n",
              "    </tr>\n",
              "  </tbody>\n",
              "</table>\n",
              "</div>\n",
              "      <button class=\"colab-df-convert\" onclick=\"convertToInteractive('df-d8dc7f72-4aa6-4168-9d67-1593da875994')\"\n",
              "              title=\"Convert this dataframe to an interactive table.\"\n",
              "              style=\"display:none;\">\n",
              "        \n",
              "  <svg xmlns=\"http://www.w3.org/2000/svg\" height=\"24px\"viewBox=\"0 0 24 24\"\n",
              "       width=\"24px\">\n",
              "    <path d=\"M0 0h24v24H0V0z\" fill=\"none\"/>\n",
              "    <path d=\"M18.56 5.44l.94 2.06.94-2.06 2.06-.94-2.06-.94-.94-2.06-.94 2.06-2.06.94zm-11 1L8.5 8.5l.94-2.06 2.06-.94-2.06-.94L8.5 2.5l-.94 2.06-2.06.94zm10 10l.94 2.06.94-2.06 2.06-.94-2.06-.94-.94-2.06-.94 2.06-2.06.94z\"/><path d=\"M17.41 7.96l-1.37-1.37c-.4-.4-.92-.59-1.43-.59-.52 0-1.04.2-1.43.59L10.3 9.45l-7.72 7.72c-.78.78-.78 2.05 0 2.83L4 21.41c.39.39.9.59 1.41.59.51 0 1.02-.2 1.41-.59l7.78-7.78 2.81-2.81c.8-.78.8-2.07 0-2.86zM5.41 20L4 18.59l7.72-7.72 1.47 1.35L5.41 20z\"/>\n",
              "  </svg>\n",
              "      </button>\n",
              "      \n",
              "  <style>\n",
              "    .colab-df-container {\n",
              "      display:flex;\n",
              "      flex-wrap:wrap;\n",
              "      gap: 12px;\n",
              "    }\n",
              "\n",
              "    .colab-df-convert {\n",
              "      background-color: #E8F0FE;\n",
              "      border: none;\n",
              "      border-radius: 50%;\n",
              "      cursor: pointer;\n",
              "      display: none;\n",
              "      fill: #1967D2;\n",
              "      height: 32px;\n",
              "      padding: 0 0 0 0;\n",
              "      width: 32px;\n",
              "    }\n",
              "\n",
              "    .colab-df-convert:hover {\n",
              "      background-color: #E2EBFA;\n",
              "      box-shadow: 0px 1px 2px rgba(60, 64, 67, 0.3), 0px 1px 3px 1px rgba(60, 64, 67, 0.15);\n",
              "      fill: #174EA6;\n",
              "    }\n",
              "\n",
              "    [theme=dark] .colab-df-convert {\n",
              "      background-color: #3B4455;\n",
              "      fill: #D2E3FC;\n",
              "    }\n",
              "\n",
              "    [theme=dark] .colab-df-convert:hover {\n",
              "      background-color: #434B5C;\n",
              "      box-shadow: 0px 1px 3px 1px rgba(0, 0, 0, 0.15);\n",
              "      filter: drop-shadow(0px 1px 2px rgba(0, 0, 0, 0.3));\n",
              "      fill: #FFFFFF;\n",
              "    }\n",
              "  </style>\n",
              "\n",
              "      <script>\n",
              "        const buttonEl =\n",
              "          document.querySelector('#df-d8dc7f72-4aa6-4168-9d67-1593da875994 button.colab-df-convert');\n",
              "        buttonEl.style.display =\n",
              "          google.colab.kernel.accessAllowed ? 'block' : 'none';\n",
              "\n",
              "        async function convertToInteractive(key) {\n",
              "          const element = document.querySelector('#df-d8dc7f72-4aa6-4168-9d67-1593da875994');\n",
              "          const dataTable =\n",
              "            await google.colab.kernel.invokeFunction('convertToInteractive',\n",
              "                                                     [key], {});\n",
              "          if (!dataTable) return;\n",
              "\n",
              "          const docLinkHtml = 'Like what you see? Visit the ' +\n",
              "            '<a target=\"_blank\" href=https://colab.research.google.com/notebooks/data_table.ipynb>data table notebook</a>'\n",
              "            + ' to learn more about interactive tables.';\n",
              "          element.innerHTML = '';\n",
              "          dataTable['output_type'] = 'display_data';\n",
              "          await google.colab.output.renderOutput(dataTable, element);\n",
              "          const docLink = document.createElement('div');\n",
              "          docLink.innerHTML = docLinkHtml;\n",
              "          element.appendChild(docLink);\n",
              "        }\n",
              "      </script>\n",
              "    </div>\n",
              "  </div>\n",
              "  "
            ]
          },
          "metadata": {},
          "execution_count": 9
        }
      ]
    },
    {
      "cell_type": "code",
      "source": [
        "num_cols = X.select_dtypes(include = 'number').columns.to_list()\n",
        "num_cols"
      ],
      "metadata": {
        "colab": {
          "base_uri": "https://localhost:8080/"
        },
        "id": "Z4jYwI_3Ijy6",
        "outputId": "c7f146af-4f55-4e69-a5df-6d9c830588f0"
      },
      "execution_count": 10,
      "outputs": [
        {
          "output_type": "execute_result",
          "data": {
            "text/plain": [
              "['male',\n",
              " 'age',\n",
              " 'education',\n",
              " 'currentSmoker',\n",
              " 'cigsPerDay',\n",
              " 'BPMeds',\n",
              " 'prevalentStroke',\n",
              " 'prevalentHyp',\n",
              " 'diabetes',\n",
              " 'totChol',\n",
              " 'sysBP',\n",
              " 'diaBP',\n",
              " 'BMI',\n",
              " 'heartRate',\n",
              " 'glucose']"
            ]
          },
          "metadata": {},
          "execution_count": 10
        }
      ]
    },
    {
      "cell_type": "markdown",
      "source": [
        "**PIPELINE**"
      ],
      "metadata": {
        "id": "KT8f-ijbNW--"
      }
    },
    {
      "cell_type": "markdown",
      "source": [
        "1. Will utilize a pipeline to chain all the preprocessing steps\n",
        "2. Impute missing values with mean\n",
        "3. Standardize features by removing the mean and scaling to unit variance.\n",
        "    they might behave badly if the individual features do not more or less     look like standard normally distributed data   "
      ],
      "metadata": {
        "id": "_DbcJiGhNAM4"
      }
    },
    {
      "cell_type": "code",
      "source": [
        "heart_pipe = Pipeline([\n",
        "    ('imputer', SimpleImputer(strategy='mean')),\n",
        "     ('scaler', StandardScaler())\n",
        "])\n",
        "\n",
        "ct = ColumnTransformer(remainder = 'passthrough',\n",
        "                      transformers = [\n",
        "                          ('heart_pipe', heart_pipe, num_cols)\n",
        "                      ])\n",
        "\n",
        "model_1 = Pipeline([\n",
        "    ('ct', ct),\n",
        "    ('classifier', LogisticRegression(penalty='l2', C=1))\n",
        "])"
      ],
      "metadata": {
        "id": "-_N8owwwIoOS"
      },
      "execution_count": 11,
      "outputs": []
    },
    {
      "cell_type": "markdown",
      "source": [
        "**CROSS VALIDATION**\n"
      ],
      "metadata": {
        "id": "iyMNNX7oOiXP"
      }
    },
    {
      "cell_type": "code",
      "source": [
        "# Splitting the data to train set and test set\n",
        "X_train_, X_test_, y_train_, y_test_ = train_test_split(\n",
        "    X,\n",
        "    y,\n",
        "    test_size=0.33,\n",
        "    shuffle=True,\n",
        "    stratify=y,#stratify enforces same proportionality in an inbalance class \n",
        "    random_state=67\n",
        "\n",
        ")"
      ],
      "metadata": {
        "id": "Yg2ngIpgIoeO"
      },
      "execution_count": 12,
      "outputs": []
    },
    {
      "cell_type": "code",
      "source": [
        "# Train the model\n",
        "md =model_1.fit(X_train_,  y_train_.values.ravel())\n",
        "\n",
        "# Predict on evaluation set\n",
        "preds = model_1.predict(X_test_)\n",
        "preds"
      ],
      "metadata": {
        "colab": {
          "base_uri": "https://localhost:8080/"
        },
        "id": "N2-WDT5YIohB",
        "outputId": "e6fbb30e-3322-4d85-caae-50cfed0f992f"
      },
      "execution_count": 13,
      "outputs": [
        {
          "output_type": "execute_result",
          "data": {
            "text/plain": [
              "array([0, 0, 0, ..., 0, 0, 0])"
            ]
          },
          "metadata": {},
          "execution_count": 13
        }
      ]
    },
    {
      "cell_type": "code",
      "source": [
        "predictions = preds.reshape(1399, 1)"
      ],
      "metadata": {
        "id": "aDFRd3ACLDan"
      },
      "execution_count": 14,
      "outputs": []
    },
    {
      "cell_type": "markdown",
      "source": [
        "1. Will not depend on accuracy to measure our test since our data contains imbalance class and also the nature if the study. \n",
        "2. In medical perspective its better to predict someone who does not have as positve rather than positive as not having\n",
        "3. Will use Precision and Recal![prrc.png](data:image/png;base64,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)"
      ],
      "metadata": {
        "id": "qP7KFAk3PsW9"
      }
    },
    {
      "cell_type": "markdown",
      "source": [
        ""
      ],
      "metadata": {
        "id": "lt7iiYqRLmjb"
      }
    },
    {
      "cell_type": "code",
      "source": [
        "print(classification_report(y_test_, predictions))"
      ],
      "metadata": {
        "colab": {
          "base_uri": "https://localhost:8080/"
        },
        "id": "ibrCDuZhIoqu",
        "outputId": "b2bb367e-0c5a-4b5f-c507-f520b0d3cacf"
      },
      "execution_count": 15,
      "outputs": [
        {
          "output_type": "stream",
          "name": "stdout",
          "text": [
            "              precision    recall  f1-score   support\n",
            "\n",
            "           0       0.86      0.99      0.92      1186\n",
            "           1       0.70      0.07      0.12       213\n",
            "\n",
            "    accuracy                           0.85      1399\n",
            "   macro avg       0.78      0.53      0.52      1399\n",
            "weighted avg       0.83      0.85      0.80      1399\n",
            "\n"
          ]
        }
      ]
    },
    {
      "cell_type": "code",
      "source": [
        "cf_matrix = confusion_matrix(y_test_, predictions)\n",
        "cf_matrix"
      ],
      "metadata": {
        "colab": {
          "base_uri": "https://localhost:8080/"
        },
        "id": "9VjbfZ3-W4N0",
        "outputId": "941844e6-bd88-495d-89ae-03fd6c86d11a"
      },
      "execution_count": 16,
      "outputs": [
        {
          "output_type": "execute_result",
          "data": {
            "text/plain": [
              "array([[1180,    6],\n",
              "       [ 199,   14]])"
            ]
          },
          "metadata": {},
          "execution_count": 16
        }
      ]
    },
    {
      "cell_type": "code",
      "source": [
        "cm_display = ConfusionMatrixDisplay(cf_matrix).plot()"
      ],
      "metadata": {
        "colab": {
          "base_uri": "https://localhost:8080/",
          "height": 279
        },
        "id": "CSKBKoIVXqQu",
        "outputId": "d5fbdffd-92c9-4529-940b-00b8f67dcc25"
      },
      "execution_count": 17,
      "outputs": [
        {
          "output_type": "display_data",
          "data": {
            "text/plain": [
              "<Figure size 432x288 with 2 Axes>"
            ],
            "image/png": "[encoded data removed]"
          },
          "metadata": {
            "needs_background": "light"
          }
        }
      ]
    },
    {
      "cell_type": "code",
      "source": [
        "roc_score = roc_auc_score(y_test_, predictions)\n",
        "roc_score"
      ],
      "metadata": {
        "colab": {
          "base_uri": "https://localhost:8080/"
        },
        "id": "cWKKO_IaIon2",
        "outputId": "ecdf257a-2c9e-4e1b-f91f-76b28e7660c6"
      },
      "execution_count": 18,
      "outputs": [
        {
          "output_type": "execute_result",
          "data": {
            "text/plain": [
              "0.5303343388040441"
            ]
          },
          "metadata": {},
          "execution_count": 18
        }
      ]
    },
    {
      "cell_type": "markdown",
      "source": [
        "With a score of 0.5 our model has failed, Its as good as coin flip or pure gues"
      ],
      "metadata": {
        "id": "mXWBtOCnPRNR"
      }
    },
    {
      "cell_type": "markdown",
      "source": [
        "Scores by [AcuteTesting.org](https://acutecaretesting.org/en/articles/roc-curves-what-are-they-and-how-are-they-used#:~:text=THE%20WORTHLESS%20TEST&text=It%20includes%20the%20point%20with,the%20worthless%20test%20is%200.5.)"
      ],
      "metadata": {
        "id": "d57D1w7YbLa6"
      }
    },
    {
      "cell_type": "markdown",
      "source": [
        "![roc.png](data:image/png;base64,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)"
      ],
      "metadata": {
        "id": "yiceDzPlbi7i"
      }
    },
    {
      "cell_type": "code",
      "source": [
        "stats_data = pd.concat([X, y], axis=1)"
      ],
      "metadata": {
        "id": "8GOXSO0SRsGX"
      },
      "execution_count": 23,
      "outputs": []
    },
    {
      "cell_type": "code",
      "source": [
        "stats_data.head()"
      ],
      "metadata": {
        "colab": {
          "base_uri": "https://localhost:8080/",
          "height": 206
        },
        "id": "rArv_3tBRsJO",
        "outputId": "86922626-98a4-4c74-ba17-3e28f8f45365"
      },
      "execution_count": 24,
      "outputs": [
        {
          "output_type": "execute_result",
          "data": {
            "text/plain": [
              "   male  age  education  currentSmoker  cigsPerDay  BPMeds  prevalentStroke  \\\n",
              "0     1   39        4.0              0         0.0     0.0                0   \n",
              "1     0   46        2.0              0         0.0     0.0                0   \n",
              "2     1   48        1.0              1        20.0     0.0                0   \n",
              "3     0   61        3.0              1        30.0     0.0                0   \n",
              "4     0   46        3.0              1        23.0     0.0                0   \n",
              "\n",
              "   prevalentHyp  diabetes  totChol  sysBP  diaBP    BMI  heartRate  glucose  \\\n",
              "0             0         0    195.0  106.0   70.0  26.97       80.0     77.0   \n",
              "1             0         0    250.0  121.0   81.0  28.73       95.0     76.0   \n",
              "2             0         0    245.0  127.5   80.0  25.34       75.0     70.0   \n",
              "3             1         0    225.0  150.0   95.0  28.58       65.0    103.0   \n",
              "4             0         0    285.0  130.0   84.0  23.10       85.0     85.0   \n",
              "\n",
              "   TenYearCHD  \n",
              "0           0  \n",
              "1           0  \n",
              "2           0  \n",
              "3           1  \n",
              "4           0  "
            ],
            "text/html": [
              "\n",
              "  <div id=\"df-2da58f66-27a1-4d2f-818d-025f58f5e142\">\n",
              "    <div class=\"colab-df-container\">\n",
              "      <div>\n",
              "<style scoped>\n",
              "    .dataframe tbody tr th:only-of-type {\n",
              "        vertical-align: middle;\n",
              "    }\n",
              "\n",
              "    .dataframe tbody tr th {\n",
              "        vertical-align: top;\n",
              "    }\n",
              "\n",
              "    .dataframe thead th {\n",
              "        text-align: right;\n",
              "    }\n",
              "</style>\n",
              "<table border=\"1\" class=\"dataframe\">\n",
              "  <thead>\n",
              "    <tr style=\"text-align: right;\">\n",
              "      <th></th>\n",
              "      <th>male</th>\n",
              "      <th>age</th>\n",
              "      <th>education</th>\n",
              "      <th>currentSmoker</th>\n",
              "      <th>cigsPerDay</th>\n",
              "      <th>BPMeds</th>\n",
              "      <th>prevalentStroke</th>\n",
              "      <th>prevalentHyp</th>\n",
              "      <th>diabetes</th>\n",
              "      <th>totChol</th>\n",
              "      <th>sysBP</th>\n",
              "      <th>diaBP</th>\n",
              "      <th>BMI</th>\n",
              "      <th>heartRate</th>\n",
              "      <th>glucose</th>\n",
              "      <th>TenYearCHD</th>\n",
              "    </tr>\n",
              "  </thead>\n",
              "  <tbody>\n",
              "    <tr>\n",
              "      <th>0</th>\n",
              "      <td>1</td>\n",
              "      <td>39</td>\n",
              "      <td>4.0</td>\n",
              "      <td>0</td>\n",
              "      <td>0.0</td>\n",
              "      <td>0.0</td>\n",
              "      <td>0</td>\n",
              "      <td>0</td>\n",
              "      <td>0</td>\n",
              "      <td>195.0</td>\n",
              "      <td>106.0</td>\n",
              "      <td>70.0</td>\n",
              "      <td>26.97</td>\n",
              "      <td>80.0</td>\n",
              "      <td>77.0</td>\n",
              "      <td>0</td>\n",
              "    </tr>\n",
              "    <tr>\n",
              "      <th>1</th>\n",
              "      <td>0</td>\n",
              "      <td>46</td>\n",
              "      <td>2.0</td>\n",
              "      <td>0</td>\n",
              "      <td>0.0</td>\n",
              "      <td>0.0</td>\n",
              "      <td>0</td>\n",
              "      <td>0</td>\n",
              "      <td>0</td>\n",
              "      <td>250.0</td>\n",
              "      <td>121.0</td>\n",
              "      <td>81.0</td>\n",
              "      <td>28.73</td>\n",
              "      <td>95.0</td>\n",
              "      <td>76.0</td>\n",
              "      <td>0</td>\n",
              "    </tr>\n",
              "    <tr>\n",
              "      <th>2</th>\n",
              "      <td>1</td>\n",
              "      <td>48</td>\n",
              "      <td>1.0</td>\n",
              "      <td>1</td>\n",
              "      <td>20.0</td>\n",
              "      <td>0.0</td>\n",
              "      <td>0</td>\n",
              "      <td>0</td>\n",
              "      <td>0</td>\n",
              "      <td>245.0</td>\n",
              "      <td>127.5</td>\n",
              "      <td>80.0</td>\n",
              "      <td>25.34</td>\n",
              "      <td>75.0</td>\n",
              "      <td>70.0</td>\n",
              "      <td>0</td>\n",
              "    </tr>\n",
              "    <tr>\n",
              "      <th>3</th>\n",
              "      <td>0</td>\n",
              "      <td>61</td>\n",
              "      <td>3.0</td>\n",
              "      <td>1</td>\n",
              "      <td>30.0</td>\n",
              "      <td>0.0</td>\n",
              "      <td>0</td>\n",
              "      <td>1</td>\n",
              "      <td>0</td>\n",
              "      <td>225.0</td>\n",
              "      <td>150.0</td>\n",
              "      <td>95.0</td>\n",
              "      <td>28.58</td>\n",
              "      <td>65.0</td>\n",
              "      <td>103.0</td>\n",
              "      <td>1</td>\n",
              "    </tr>\n",
              "    <tr>\n",
              "      <th>4</th>\n",
              "      <td>0</td>\n",
              "      <td>46</td>\n",
              "      <td>3.0</td>\n",
              "      <td>1</td>\n",
              "      <td>23.0</td>\n",
              "      <td>0.0</td>\n",
              "      <td>0</td>\n",
              "      <td>0</td>\n",
              "      <td>0</td>\n",
              "      <td>285.0</td>\n",
              "      <td>130.0</td>\n",
              "      <td>84.0</td>\n",
              "      <td>23.10</td>\n",
              "      <td>85.0</td>\n",
              "      <td>85.0</td>\n",
              "      <td>0</td>\n",
              "    </tr>\n",
              "  </tbody>\n",
              "</table>\n",
              "</div>\n",
              "      <button class=\"colab-df-convert\" onclick=\"convertToInteractive('df-2da58f66-27a1-4d2f-818d-025f58f5e142')\"\n",
              "              title=\"Convert this dataframe to an interactive table.\"\n",
              "              style=\"display:none;\">\n",
              "        \n",
              "  <svg xmlns=\"http://www.w3.org/2000/svg\" height=\"24px\"viewBox=\"0 0 24 24\"\n",
              "       width=\"24px\">\n",
              "    <path d=\"M0 0h24v24H0V0z\" fill=\"none\"/>\n",
              "    <path d=\"M18.56 5.44l.94 2.06.94-2.06 2.06-.94-2.06-.94-.94-2.06-.94 2.06-2.06.94zm-11 1L8.5 8.5l.94-2.06 2.06-.94-2.06-.94L8.5 2.5l-.94 2.06-2.06.94zm10 10l.94 2.06.94-2.06 2.06-.94-2.06-.94-.94-2.06-.94 2.06-2.06.94z\"/><path d=\"M17.41 7.96l-1.37-1.37c-.4-.4-.92-.59-1.43-.59-.52 0-1.04.2-1.43.59L10.3 9.45l-7.72 7.72c-.78.78-.78 2.05 0 2.83L4 21.41c.39.39.9.59 1.41.59.51 0 1.02-.2 1.41-.59l7.78-7.78 2.81-2.81c.8-.78.8-2.07 0-2.86zM5.41 20L4 18.59l7.72-7.72 1.47 1.35L5.41 20z\"/>\n",
              "  </svg>\n",
              "      </button>\n",
              "      \n",
              "  <style>\n",
              "    .colab-df-container {\n",
              "      display:flex;\n",
              "      flex-wrap:wrap;\n",
              "      gap: 12px;\n",
              "    }\n",
              "\n",
              "    .colab-df-convert {\n",
              "      background-color: #E8F0FE;\n",
              "      border: none;\n",
              "      border-radius: 50%;\n",
              "      cursor: pointer;\n",
              "      display: none;\n",
              "      fill: #1967D2;\n",
              "      height: 32px;\n",
              "      padding: 0 0 0 0;\n",
              "      width: 32px;\n",
              "    }\n",
              "\n",
              "    .colab-df-convert:hover {\n",
              "      background-color: #E2EBFA;\n",
              "      box-shadow: 0px 1px 2px rgba(60, 64, 67, 0.3), 0px 1px 3px 1px rgba(60, 64, 67, 0.15);\n",
              "      fill: #174EA6;\n",
              "    }\n",
              "\n",
              "    [theme=dark] .colab-df-convert {\n",
              "      background-color: #3B4455;\n",
              "      fill: #D2E3FC;\n",
              "    }\n",
              "\n",
              "    [theme=dark] .colab-df-convert:hover {\n",
              "      background-color: #434B5C;\n",
              "      box-shadow: 0px 1px 3px 1px rgba(0, 0, 0, 0.15);\n",
              "      filter: drop-shadow(0px 1px 2px rgba(0, 0, 0, 0.3));\n",
              "      fill: #FFFFFF;\n",
              "    }\n",
              "  </style>\n",
              "\n",
              "      <script>\n",
              "        const buttonEl =\n",
              "          document.querySelector('#df-2da58f66-27a1-4d2f-818d-025f58f5e142 button.colab-df-convert');\n",
              "        buttonEl.style.display =\n",
              "          google.colab.kernel.accessAllowed ? 'block' : 'none';\n",
              "\n",
              "        async function convertToInteractive(key) {\n",
              "          const element = document.querySelector('#df-2da58f66-27a1-4d2f-818d-025f58f5e142');\n",
              "          const dataTable =\n",
              "            await google.colab.kernel.invokeFunction('convertToInteractive',\n",
              "                                                     [key], {});\n",
              "          if (!dataTable) return;\n",
              "\n",
              "          const docLinkHtml = 'Like what you see? Visit the ' +\n",
              "            '<a target=\"_blank\" href=https://colab.research.google.com/notebooks/data_table.ipynb>data table notebook</a>'\n",
              "            + ' to learn more about interactive tables.';\n",
              "          element.innerHTML = '';\n",
              "          dataTable['output_type'] = 'display_data';\n",
              "          await google.colab.output.renderOutput(dataTable, element);\n",
              "          const docLink = document.createElement('div');\n",
              "          docLink.innerHTML = docLinkHtml;\n",
              "          element.appendChild(docLink);\n",
              "        }\n",
              "      </script>\n",
              "    </div>\n",
              "  </div>\n",
              "  "
            ]
          },
          "metadata": {},
          "execution_count": 24
        }
      ]
    },
    {
      "cell_type": "code",
      "source": [
        "stats_model = smf.logit(formula=\"TenYearCHD~ + totChol + male + age + currentSmoker + cigsPerDay + BPMeds\t+ prevalentStroke\t+ prevalentHyp + diabetes +\tsysBP +\tdiaBP + BMI + heartRate\", data=stats_data).fit()\n",
        "print(stats_model.summary())"
      ],
      "metadata": {
        "colab": {
          "base_uri": "https://localhost:8080/"
        },
        "id": "Z7AN4AT0SrGK",
        "outputId": "a272592b-4b68-4b57-ea9b-54219b8ea816"
      },
      "execution_count": 27,
      "outputs": [
        {
          "output_type": "stream",
          "name": "stdout",
          "text": [
            "Optimization terminated successfully.\n",
            "         Current function value: 0.375217\n",
            "         Iterations 7\n",
            "                           Logit Regression Results                           \n",
            "==============================================================================\n",
            "Dep. Variable:             TenYearCHD   No. Observations:                 4088\n",
            "Model:                          Logit   Df Residuals:                     4074\n",
            "Method:                           MLE   Df Model:                           13\n",
            "Date:                Mon, 20 Jun 2022   Pseudo R-squ.:                  0.1104\n",
            "Time:                        13:45:30   Log-Likelihood:                -1533.9\n",
            "converged:                       True   LL-Null:                       -1724.2\n",
            "Covariance Type:            nonrobust   LLR p-value:                 2.708e-73\n",
            "===================================================================================\n",
            "                      coef    std err          z      P>|z|      [0.025      0.975]\n",
            "-----------------------------------------------------------------------------------\n",
            "Intercept          -8.0813      0.644    -12.540      0.000      -9.344      -6.818\n",
            "totChol             0.0017      0.001      1.580      0.114      -0.000       0.004\n",
            "male                0.5458      0.103      5.306      0.000       0.344       0.747\n",
            "age                 0.0653      0.006     10.306      0.000       0.053       0.078\n",
            "currentSmoker       0.0542      0.148      0.365      0.715      -0.237       0.345\n",
            "cigsPerDay          0.0201      0.006      3.448      0.001       0.009       0.032\n",
            "BPMeds              0.2167      0.224      0.967      0.334      -0.222       0.656\n",
            "prevalentStroke     0.7193      0.484      1.486      0.137      -0.230       1.668\n",
            "prevalentHyp        0.1895      0.131      1.448      0.148      -0.067       0.446\n",
            "diabetes            0.6932      0.225      3.078      0.002       0.252       1.135\n",
            "sysBP               0.0149      0.004      4.127      0.000       0.008       0.022\n",
            "diaBP              -0.0025      0.006     -0.407      0.684      -0.015       0.010\n",
            "BMI                 0.0057      0.012      0.472      0.637      -0.018       0.029\n",
            "heartRate           0.0001      0.004      0.033      0.974      -0.008       0.008\n",
            "===================================================================================\n"
          ]
        }
      ]
    },
    {
      "cell_type": "markdown",
      "source": [
        "The p-values help determine whether the relationships that we observe in our sample also exist in the larger population. The p-value for each independent variable tests the null hypothesis that the variable has no correlation with the dependent variable."
      ],
      "metadata": {
        "id": "bVgUWr6pbCPa"
      }
    },
    {
      "cell_type": "markdown",
      "source": [
        "**ODD RATIOS**"
      ],
      "metadata": {
        "id": "_3EN_jbWacDN"
      }
    },
    {
      "cell_type": "code",
      "source": [
        "model_odds = pd.DataFrame(np.exp(stats_model.params), columns =['ODR'])\n",
        "model_odds['Z-value']= stats_model.pvalues\n",
        "model_odds[['2.5', '97.5']] = np.exp(stats_model.conf_int())\n",
        "print(model_odds)"
      ],
      "metadata": {
        "colab": {
          "base_uri": "https://localhost:8080/"
        },
        "id": "_w-LpOToSrUX",
        "outputId": "a7f7340c-45de-4c55-ad43-3ae4d9e7e385"
      },
      "execution_count": 28,
      "outputs": [
        {
          "output_type": "stream",
          "name": "stdout",
          "text": [
            "                      ODR       Z-value       2.5      97.5\n",
            "Intercept        0.000309  4.511211e-36  0.000087  0.001094\n",
            "totChol          1.001656  1.141963e-01  0.999602  1.003715\n",
            "male             1.726055  1.119356e-07  1.410890  2.111621\n",
            "age              1.067426  6.627216e-25  1.054262  1.080755\n",
            "currentSmoker    1.055646  7.150799e-01  0.789307  1.411857\n",
            "cigsPerDay       1.020307  5.656231e-04  1.008712  1.032035\n",
            "BPMeds           1.241915  3.335624e-01  0.800524  1.926679\n",
            "prevalentStroke  2.052952  1.373663e-01  0.794830  5.302530\n",
            "prevalentHyp     1.208659  1.475682e-01  0.935220  1.562047\n",
            "diabetes         2.000164  2.081351e-03  1.286413  3.109929\n",
            "sysBP            1.015062  3.674776e-05  1.007881  1.022294\n",
            "diaBP            0.997496  6.836711e-01  0.985540  1.009598\n",
            "BMI              1.005678  6.371555e-01  0.982294  1.029619\n",
            "heartRate        1.000130  9.736904e-01  0.992461  1.007858\n"
          ]
        }
      ]
    },
    {
      "cell_type": "markdown",
      "source": [
        "**MODEL 2**"
      ],
      "metadata": {
        "id": "iHFnpfahHNvt"
      }
    },
    {
      "cell_type": "code",
      "source": [
        "#Load the data\n",
        "heart_df = pd.read_csv(\"/content/Heart_Disease.csv\")"
      ],
      "metadata": {
        "id": "tYdfWFSg-ud0"
      },
      "execution_count": 29,
      "outputs": []
    },
    {
      "cell_type": "markdown",
      "source": [
        "**1. EXPLORE THE DATA**"
      ],
      "metadata": {
        "id": "LioAjIstwu8x"
      }
    },
    {
      "cell_type": "code",
      "source": [
        "heart_df.head()"
      ],
      "metadata": {
        "id": "aYluvLsl-uhI",
        "colab": {
          "base_uri": "https://localhost:8080/",
          "height": 206
        },
        "outputId": "3e971977-f984-465e-d711-83c152604463"
      },
      "execution_count": 30,
      "outputs": [
        {
          "output_type": "execute_result",
          "data": {
            "text/plain": [
              "   male  age  education  currentSmoker  cigsPerDay  BPMeds  prevalentStroke  \\\n",
              "0     1   39        4.0              0         0.0     0.0                0   \n",
              "1     0   46        2.0              0         0.0     0.0                0   \n",
              "2     1   48        1.0              1        20.0     0.0                0   \n",
              "3     0   61        3.0              1        30.0     0.0                0   \n",
              "4     0   46        3.0              1        23.0     0.0                0   \n",
              "\n",
              "   prevalentHyp  diabetes  totChol  sysBP  diaBP    BMI  heartRate  glucose  \\\n",
              "0             0         0    195.0  106.0   70.0  26.97       80.0     77.0   \n",
              "1             0         0    250.0  121.0   81.0  28.73       95.0     76.0   \n",
              "2             0         0    245.0  127.5   80.0  25.34       75.0     70.0   \n",
              "3             1         0    225.0  150.0   95.0  28.58       65.0    103.0   \n",
              "4             0         0    285.0  130.0   84.0  23.10       85.0     85.0   \n",
              "\n",
              "   TenYearCHD  \n",
              "0           0  \n",
              "1           0  \n",
              "2           0  \n",
              "3           1  \n",
              "4           0  "
            ],
            "text/html": [
              "\n",
              "  <div id=\"df-c01cebf1-4407-4e5c-ab13-39040867e67b\">\n",
              "    <div class=\"colab-df-container\">\n",
              "      <div>\n",
              "<style scoped>\n",
              "    .dataframe tbody tr th:only-of-type {\n",
              "        vertical-align: middle;\n",
              "    }\n",
              "\n",
              "    .dataframe tbody tr th {\n",
              "        vertical-align: top;\n",
              "    }\n",
              "\n",
              "    .dataframe thead th {\n",
              "        text-align: right;\n",
              "    }\n",
              "</style>\n",
              "<table border=\"1\" class=\"dataframe\">\n",
              "  <thead>\n",
              "    <tr style=\"text-align: right;\">\n",
              "      <th></th>\n",
              "      <th>male</th>\n",
              "      <th>age</th>\n",
              "      <th>education</th>\n",
              "      <th>currentSmoker</th>\n",
              "      <th>cigsPerDay</th>\n",
              "      <th>BPMeds</th>\n",
              "      <th>prevalentStroke</th>\n",
              "      <th>prevalentHyp</th>\n",
              "      <th>diabetes</th>\n",
              "      <th>totChol</th>\n",
              "      <th>sysBP</th>\n",
              "      <th>diaBP</th>\n",
              "      <th>BMI</th>\n",
              "      <th>heartRate</th>\n",
              "      <th>glucose</th>\n",
              "      <th>TenYearCHD</th>\n",
              "    </tr>\n",
              "  </thead>\n",
              "  <tbody>\n",
              "    <tr>\n",
              "      <th>0</th>\n",
              "      <td>1</td>\n",
              "      <td>39</td>\n",
              "      <td>4.0</td>\n",
              "      <td>0</td>\n",
              "      <td>0.0</td>\n",
              "      <td>0.0</td>\n",
              "      <td>0</td>\n",
              "      <td>0</td>\n",
              "      <td>0</td>\n",
              "      <td>195.0</td>\n",
              "      <td>106.0</td>\n",
              "      <td>70.0</td>\n",
              "      <td>26.97</td>\n",
              "      <td>80.0</td>\n",
              "      <td>77.0</td>\n",
              "      <td>0</td>\n",
              "    </tr>\n",
              "    <tr>\n",
              "      <th>1</th>\n",
              "      <td>0</td>\n",
              "      <td>46</td>\n",
              "      <td>2.0</td>\n",
              "      <td>0</td>\n",
              "      <td>0.0</td>\n",
              "      <td>0.0</td>\n",
              "      <td>0</td>\n",
              "      <td>0</td>\n",
              "      <td>0</td>\n",
              "      <td>250.0</td>\n",
              "      <td>121.0</td>\n",
              "      <td>81.0</td>\n",
              "      <td>28.73</td>\n",
              "      <td>95.0</td>\n",
              "      <td>76.0</td>\n",
              "      <td>0</td>\n",
              "    </tr>\n",
              "    <tr>\n",
              "      <th>2</th>\n",
              "      <td>1</td>\n",
              "      <td>48</td>\n",
              "      <td>1.0</td>\n",
              "      <td>1</td>\n",
              "      <td>20.0</td>\n",
              "      <td>0.0</td>\n",
              "      <td>0</td>\n",
              "      <td>0</td>\n",
              "      <td>0</td>\n",
              "      <td>245.0</td>\n",
              "      <td>127.5</td>\n",
              "      <td>80.0</td>\n",
              "      <td>25.34</td>\n",
              "      <td>75.0</td>\n",
              "      <td>70.0</td>\n",
              "      <td>0</td>\n",
              "    </tr>\n",
              "    <tr>\n",
              "      <th>3</th>\n",
              "      <td>0</td>\n",
              "      <td>61</td>\n",
              "      <td>3.0</td>\n",
              "      <td>1</td>\n",
              "      <td>30.0</td>\n",
              "      <td>0.0</td>\n",
              "      <td>0</td>\n",
              "      <td>1</td>\n",
              "      <td>0</td>\n",
              "      <td>225.0</td>\n",
              "      <td>150.0</td>\n",
              "      <td>95.0</td>\n",
              "      <td>28.58</td>\n",
              "      <td>65.0</td>\n",
              "      <td>103.0</td>\n",
              "      <td>1</td>\n",
              "    </tr>\n",
              "    <tr>\n",
              "      <th>4</th>\n",
              "      <td>0</td>\n",
              "      <td>46</td>\n",
              "      <td>3.0</td>\n",
              "      <td>1</td>\n",
              "      <td>23.0</td>\n",
              "      <td>0.0</td>\n",
              "      <td>0</td>\n",
              "      <td>0</td>\n",
              "      <td>0</td>\n",
              "      <td>285.0</td>\n",
              "      <td>130.0</td>\n",
              "      <td>84.0</td>\n",
              "      <td>23.10</td>\n",
              "      <td>85.0</td>\n",
              "      <td>85.0</td>\n",
              "      <td>0</td>\n",
              "    </tr>\n",
              "  </tbody>\n",
              "</table>\n",
              "</div>\n",
              "      <button class=\"colab-df-convert\" onclick=\"convertToInteractive('df-c01cebf1-4407-4e5c-ab13-39040867e67b')\"\n",
              "              title=\"Convert this dataframe to an interactive table.\"\n",
              "              style=\"display:none;\">\n",
              "        \n",
              "  <svg xmlns=\"http://www.w3.org/2000/svg\" height=\"24px\"viewBox=\"0 0 24 24\"\n",
              "       width=\"24px\">\n",
              "    <path d=\"M0 0h24v24H0V0z\" fill=\"none\"/>\n",
              "    <path d=\"M18.56 5.44l.94 2.06.94-2.06 2.06-.94-2.06-.94-.94-2.06-.94 2.06-2.06.94zm-11 1L8.5 8.5l.94-2.06 2.06-.94-2.06-.94L8.5 2.5l-.94 2.06-2.06.94zm10 10l.94 2.06.94-2.06 2.06-.94-2.06-.94-.94-2.06-.94 2.06-2.06.94z\"/><path d=\"M17.41 7.96l-1.37-1.37c-.4-.4-.92-.59-1.43-.59-.52 0-1.04.2-1.43.59L10.3 9.45l-7.72 7.72c-.78.78-.78 2.05 0 2.83L4 21.41c.39.39.9.59 1.41.59.51 0 1.02-.2 1.41-.59l7.78-7.78 2.81-2.81c.8-.78.8-2.07 0-2.86zM5.41 20L4 18.59l7.72-7.72 1.47 1.35L5.41 20z\"/>\n",
              "  </svg>\n",
              "      </button>\n",
              "      \n",
              "  <style>\n",
              "    .colab-df-container {\n",
              "      display:flex;\n",
              "      flex-wrap:wrap;\n",
              "      gap: 12px;\n",
              "    }\n",
              "\n",
              "    .colab-df-convert {\n",
              "      background-color: #E8F0FE;\n",
              "      border: none;\n",
              "      border-radius: 50%;\n",
              "      cursor: pointer;\n",
              "      display: none;\n",
              "      fill: #1967D2;\n",
              "      height: 32px;\n",
              "      padding: 0 0 0 0;\n",
              "      width: 32px;\n",
              "    }\n",
              "\n",
              "    .colab-df-convert:hover {\n",
              "      background-color: #E2EBFA;\n",
              "      box-shadow: 0px 1px 2px rgba(60, 64, 67, 0.3), 0px 1px 3px 1px rgba(60, 64, 67, 0.15);\n",
              "      fill: #174EA6;\n",
              "    }\n",
              "\n",
              "    [theme=dark] .colab-df-convert {\n",
              "      background-color: #3B4455;\n",
              "      fill: #D2E3FC;\n",
              "    }\n",
              "\n",
              "    [theme=dark] .colab-df-convert:hover {\n",
              "      background-color: #434B5C;\n",
              "      box-shadow: 0px 1px 3px 1px rgba(0, 0, 0, 0.15);\n",
              "      filter: drop-shadow(0px 1px 2px rgba(0, 0, 0, 0.3));\n",
              "      fill: #FFFFFF;\n",
              "    }\n",
              "  </style>\n",
              "\n",
              "      <script>\n",
              "        const buttonEl =\n",
              "          document.querySelector('#df-c01cebf1-4407-4e5c-ab13-39040867e67b button.colab-df-convert');\n",
              "        buttonEl.style.display =\n",
              "          google.colab.kernel.accessAllowed ? 'block' : 'none';\n",
              "\n",
              "        async function convertToInteractive(key) {\n",
              "          const element = document.querySelector('#df-c01cebf1-4407-4e5c-ab13-39040867e67b');\n",
              "          const dataTable =\n",
              "            await google.colab.kernel.invokeFunction('convertToInteractive',\n",
              "                                                     [key], {});\n",
              "          if (!dataTable) return;\n",
              "\n",
              "          const docLinkHtml = 'Like what you see? Visit the ' +\n",
              "            '<a target=\"_blank\" href=https://colab.research.google.com/notebooks/data_table.ipynb>data table notebook</a>'\n",
              "            + ' to learn more about interactive tables.';\n",
              "          element.innerHTML = '';\n",
              "          dataTable['output_type'] = 'display_data';\n",
              "          await google.colab.output.renderOutput(dataTable, element);\n",
              "          const docLink = document.createElement('div');\n",
              "          docLink.innerHTML = docLinkHtml;\n",
              "          element.appendChild(docLink);\n",
              "        }\n",
              "      </script>\n",
              "    </div>\n",
              "  </div>\n",
              "  "
            ]
          },
          "metadata": {},
          "execution_count": 30
        }
      ]
    },
    {
      "cell_type": "code",
      "source": [
        "heart_df.info()"
      ],
      "metadata": {
        "id": "M6eULDB4-ukU",
        "colab": {
          "base_uri": "https://localhost:8080/"
        },
        "outputId": "cf851dcd-0368-445b-e91b-62a964a8c985"
      },
      "execution_count": 31,
      "outputs": [
        {
          "output_type": "stream",
          "name": "stdout",
          "text": [
            "<class 'pandas.core.frame.DataFrame'>\n",
            "RangeIndex: 4238 entries, 0 to 4237\n",
            "Data columns (total 16 columns):\n",
            " #   Column           Non-Null Count  Dtype  \n",
            "---  ------           --------------  -----  \n",
            " 0   male             4238 non-null   int64  \n",
            " 1   age              4238 non-null   int64  \n",
            " 2   education        4133 non-null   float64\n",
            " 3   currentSmoker    4238 non-null   int64  \n",
            " 4   cigsPerDay       4209 non-null   float64\n",
            " 5   BPMeds           4185 non-null   float64\n",
            " 6   prevalentStroke  4238 non-null   int64  \n",
            " 7   prevalentHyp     4238 non-null   int64  \n",
            " 8   diabetes         4238 non-null   int64  \n",
            " 9   totChol          4188 non-null   float64\n",
            " 10  sysBP            4238 non-null   float64\n",
            " 11  diaBP            4238 non-null   float64\n",
            " 12  BMI              4219 non-null   float64\n",
            " 13  heartRate        4237 non-null   float64\n",
            " 14  glucose          3850 non-null   float64\n",
            " 15  TenYearCHD       4238 non-null   int64  \n",
            "dtypes: float64(9), int64(7)\n",
            "memory usage: 529.9 KB\n"
          ]
        }
      ]
    },
    {
      "cell_type": "code",
      "source": [
        "heart_df.hist(figsize=(30, 10), bins=20)"
      ],
      "metadata": {
        "id": "bcJ6p4St-un0",
        "colab": {
          "base_uri": "https://localhost:8080/",
          "height": 801
        },
        "outputId": "00e90bb9-a554-4082-ce7d-b82f25af5ebc"
      },
      "execution_count": 32,
      "outputs": [
        {
          "output_type": "execute_result",
          "data": {
            "text/plain": [
              "array([[<matplotlib.axes._subplots.AxesSubplot object at 0x7f6b7721fc50>,\n",
              "        <matplotlib.axes._subplots.AxesSubplot object at 0x7f6b772a1e50>,\n",
              "        <matplotlib.axes._subplots.AxesSubplot object at 0x7f6b7718efd0>,\n",
              "        <matplotlib.axes._subplots.AxesSubplot object at 0x7f6b77153650>],\n",
              "       [<matplotlib.axes._subplots.AxesSubplot object at 0x7f6b77109c50>,\n",
              "        <matplotlib.axes._subplots.AxesSubplot object at 0x7f6b770cc290>,\n",
              "        <matplotlib.axes._subplots.AxesSubplot object at 0x7f6b77103910>,\n",
              "        <matplotlib.axes._subplots.AxesSubplot object at 0x7f6b770bae50>],\n",
              "       [<matplotlib.axes._subplots.AxesSubplot object at 0x7f6b770bae90>,\n",
              "        <matplotlib.axes._subplots.AxesSubplot object at 0x7f6b7707c5d0>,\n",
              "        <matplotlib.axes._subplots.AxesSubplot object at 0x7f6b76ff8110>,\n",
              "        <matplotlib.axes._subplots.AxesSubplot object at 0x7f6b76faf710>],\n",
              "       [<matplotlib.axes._subplots.AxesSubplot object at 0x7f6b76f65d10>,\n",
              "        <matplotlib.axes._subplots.AxesSubplot object at 0x7f6b76f29350>,\n",
              "        <matplotlib.axes._subplots.AxesSubplot object at 0x7f6b76edf950>,\n",
              "        <matplotlib.axes._subplots.AxesSubplot object at 0x7f6b76e96f50>]],\n",
              "      dtype=object)"
            ]
          },
          "metadata": {},
          "execution_count": 32
        },
        {
          "output_type": "display_data",
          "data": {
            "text/plain": [
              "<Figure size 2160x720 with 16 Axes>"
            ],
            "image/png": "[encoded data removed]"
          },
          "metadata": {
            "needs_background": "light"
          }
        }
      ]
    },
    {
      "cell_type": "code",
      "source": [
        "heart_df[\"prevalentStroke\"].unique()"
      ],
      "metadata": {
        "colab": {
          "base_uri": "https://localhost:8080/"
        },
        "id": "YaGVJ5xG3BId",
        "outputId": "d0cdfc66-7368-4fd0-886f-ba833f2e2815"
      },
      "execution_count": 33,
      "outputs": [
        {
          "output_type": "execute_result",
          "data": {
            "text/plain": [
              "array([0, 1])"
            ]
          },
          "metadata": {},
          "execution_count": 33
        }
      ]
    },
    {
      "cell_type": "code",
      "source": [
        "heart_df.hist(column=\"prevalentStroke\")"
      ],
      "metadata": {
        "id": "WJ8WSoGl-urF",
        "colab": {
          "base_uri": "https://localhost:8080/",
          "height": 316
        },
        "outputId": "bd548d02-4452-4b76-9331-1ed83f739c7e"
      },
      "execution_count": 34,
      "outputs": [
        {
          "output_type": "execute_result",
          "data": {
            "text/plain": [
              "array([[<matplotlib.axes._subplots.AxesSubplot object at 0x7f6b7721fb10>]],\n",
              "      dtype=object)"
            ]
          },
          "metadata": {},
          "execution_count": 34
        },
        {
          "output_type": "display_data",
          "data": {
            "text/plain": [
              "<Figure size 432x288 with 1 Axes>"
            ],
            "image/png": "[encoded data removed]"
          },
          "metadata": {
            "needs_background": "light"
          }
        }
      ]
    },
    {
      "cell_type": "code",
      "source": [
        "heart_df[\"TenYearCHD\"].value_counts()  "
      ],
      "metadata": {
        "id": "8fDdOufv-uu1",
        "colab": {
          "base_uri": "https://localhost:8080/"
        },
        "outputId": "8dbb58cf-6ab8-47f9-f501-c36ae3f70c9f"
      },
      "execution_count": 35,
      "outputs": [
        {
          "output_type": "execute_result",
          "data": {
            "text/plain": [
              "0    3594\n",
              "1     644\n",
              "Name: TenYearCHD, dtype: int64"
            ]
          },
          "metadata": {},
          "execution_count": 35
        }
      ]
    },
    {
      "cell_type": "markdown",
      "source": [
        "**Their is inbalance in our dataset, this would result to bias ie favouring of the ones. W\n",
        "ill try to balance it**"
      ],
      "metadata": {
        "id": "mARWfTEHCR-p"
      }
    },
    {
      "cell_type": "markdown",
      "source": [
        "**PREPROCESS**"
      ],
      "metadata": {
        "id": "-J9mV1l4H_hb"
      }
    },
    {
      "cell_type": "markdown",
      "source": [
        "\n",
        "1.   Fill missing value\n",
        "2.   Feature selection\n",
        "3.   To balance the data will oversample  the rarer class by drawing additional rows with replacement\n",
        "4. Convert into dumy variable\n",
        "5. Scaling"
      ],
      "metadata": {
        "id": "Xd8FwbC8IJSn"
      }
    },
    {
      "cell_type": "code",
      "source": [
        "heart_df.isnull().sum()"
      ],
      "metadata": {
        "id": "GCyGAyDd-u1K",
        "colab": {
          "base_uri": "https://localhost:8080/"
        },
        "outputId": "8c9bfec8-0b13-4969-e2ea-e7ae8492c8e3"
      },
      "execution_count": 36,
      "outputs": [
        {
          "output_type": "execute_result",
          "data": {
            "text/plain": [
              "male                 0\n",
              "age                  0\n",
              "education          105\n",
              "currentSmoker        0\n",
              "cigsPerDay          29\n",
              "BPMeds              53\n",
              "prevalentStroke      0\n",
              "prevalentHyp         0\n",
              "diabetes             0\n",
              "totChol             50\n",
              "sysBP                0\n",
              "diaBP                0\n",
              "BMI                 19\n",
              "heartRate            1\n",
              "glucose            388\n",
              "TenYearCHD           0\n",
              "dtype: int64"
            ]
          },
          "metadata": {},
          "execution_count": 36
        }
      ]
    },
    {
      "cell_type": "code",
      "source": [
        "heart_df.shape"
      ],
      "metadata": {
        "id": "5nLEqiM8-u41",
        "colab": {
          "base_uri": "https://localhost:8080/"
        },
        "outputId": "f4c865c1-b85f-44b8-b6ca-ca73e2b8faa6"
      },
      "execution_count": 37,
      "outputs": [
        {
          "output_type": "execute_result",
          "data": {
            "text/plain": [
              "(4238, 16)"
            ]
          },
          "metadata": {},
          "execution_count": 37
        }
      ]
    },
    {
      "cell_type": "markdown",
      "source": [
        "### Since heartrate has only one missing column lets delete that row"
      ],
      "metadata": {
        "id": "akZsyZObpcqN"
      }
    },
    {
      "cell_type": "code",
      "source": [
        "heart_df = heart_df.dropna(subset=[\"heartRate\"], how=\"any\")"
      ],
      "metadata": {
        "id": "b29OfstK-u7y"
      },
      "execution_count": 38,
      "outputs": []
    },
    {
      "cell_type": "markdown",
      "source": [
        "### Glucose with the highest missing columns, we can employ diffrent stratergy to impute missing values"
      ],
      "metadata": {
        "id": "NuGpOOxGel56"
      }
    },
    {
      "cell_type": "code",
      "source": [
        "heart_df[\"glucose\"].value_counts().nlargest(n=30)"
      ],
      "metadata": {
        "id": "2yIryrzvpi_A"
      },
      "execution_count": null,
      "outputs": []
    },
    {
      "cell_type": "code",
      "source": [
        "heart_df[\"glucose\"].value_counts().nsmallest(n=30)"
      ],
      "metadata": {
        "id": "3AT35KOUvEoY"
      },
      "execution_count": null,
      "outputs": []
    },
    {
      "cell_type": "code",
      "source": [
        "np.mean(heart_df[\"glucose\"])"
      ],
      "metadata": {
        "colab": {
          "base_uri": "https://localhost:8080/"
        },
        "id": "rJ-q2efQpjLm",
        "outputId": "0a130629-23ae-4776-990c-43b2cd28d2f6"
      },
      "execution_count": null,
      "outputs": [
        {
          "output_type": "execute_result",
          "data": {
            "text/plain": [
              "81.96440633930891"
            ]
          },
          "metadata": {},
          "execution_count": 38
        }
      ]
    },
    {
      "cell_type": "code",
      "source": [
        "heart_df.isnull().sum()"
      ],
      "metadata": {
        "colab": {
          "base_uri": "https://localhost:8080/"
        },
        "id": "n3nUnFBApjPA",
        "outputId": "84e9e4bc-2e8f-45ca-b149-5abeedd93669"
      },
      "execution_count": 39,
      "outputs": [
        {
          "output_type": "execute_result",
          "data": {
            "text/plain": [
              "male                 0\n",
              "age                  0\n",
              "education          105\n",
              "currentSmoker        0\n",
              "cigsPerDay          29\n",
              "BPMeds              53\n",
              "prevalentStroke      0\n",
              "prevalentHyp         0\n",
              "diabetes             0\n",
              "totChol             50\n",
              "sysBP                0\n",
              "diaBP                0\n",
              "BMI                 19\n",
              "heartRate            0\n",
              "glucose            388\n",
              "TenYearCHD           0\n",
              "dtype: int64"
            ]
          },
          "metadata": {},
          "execution_count": 39
        }
      ]
    },
    {
      "cell_type": "markdown",
      "source": [
        "**FILL IN MISSING VALUES WITH SKLEARN SIMPLE IMPUTER**"
      ],
      "metadata": {
        "id": "H0fg87Ik_FfA"
      }
    },
    {
      "cell_type": "code",
      "source": [
        "imp_mean = SimpleImputer(strategy='mean')\n",
        "clean_data = imp_mean.fit_transform(heart_df)"
      ],
      "metadata": {
        "id": "K5l1XD2KpjSK"
      },
      "execution_count": 40,
      "outputs": []
    },
    {
      "cell_type": "code",
      "source": [
        "X = pd.DataFrame(clean_data, columns=heart_df.columns)"
      ],
      "metadata": {
        "id": "CcfzJ9H4pjVO"
      },
      "execution_count": 41,
      "outputs": []
    },
    {
      "cell_type": "markdown",
      "source": [
        "**FEATURE SELECTION**"
      ],
      "metadata": {
        "id": "4N8Edug69TWn"
      }
    },
    {
      "cell_type": "code",
      "source": [
        "X_features = X.iloc[:,0:15]\n",
        "X_features.head()"
      ],
      "metadata": {
        "colab": {
          "base_uri": "https://localhost:8080/",
          "height": 206
        },
        "id": "HJzHqr46pjY-",
        "outputId": "a9b33c6f-efe4-4aa5-958c-0e24ccb9720e"
      },
      "execution_count": 42,
      "outputs": [
        {
          "output_type": "execute_result",
          "data": {
            "text/plain": [
              "   male   age  education  currentSmoker  cigsPerDay  BPMeds  prevalentStroke  \\\n",
              "0   1.0  39.0        4.0            0.0         0.0     0.0              0.0   \n",
              "1   0.0  46.0        2.0            0.0         0.0     0.0              0.0   \n",
              "2   1.0  48.0        1.0            1.0        20.0     0.0              0.0   \n",
              "3   0.0  61.0        3.0            1.0        30.0     0.0              0.0   \n",
              "4   0.0  46.0        3.0            1.0        23.0     0.0              0.0   \n",
              "\n",
              "   prevalentHyp  diabetes  totChol  sysBP  diaBP    BMI  heartRate  glucose  \n",
              "0           0.0       0.0    195.0  106.0   70.0  26.97       80.0     77.0  \n",
              "1           0.0       0.0    250.0  121.0   81.0  28.73       95.0     76.0  \n",
              "2           0.0       0.0    245.0  127.5   80.0  25.34       75.0     70.0  \n",
              "3           1.0       0.0    225.0  150.0   95.0  28.58       65.0    103.0  \n",
              "4           0.0       0.0    285.0  130.0   84.0  23.10       85.0     85.0  "
            ],
            "text/html": [
              "\n",
              "  <div id=\"df-80ab5669-4855-4035-b41d-5e07a89a18ef\">\n",
              "    <div class=\"colab-df-container\">\n",
              "      <div>\n",
              "<style scoped>\n",
              "    .dataframe tbody tr th:only-of-type {\n",
              "        vertical-align: middle;\n",
              "    }\n",
              "\n",
              "    .dataframe tbody tr th {\n",
              "        vertical-align: top;\n",
              "    }\n",
              "\n",
              "    .dataframe thead th {\n",
              "        text-align: right;\n",
              "    }\n",
              "</style>\n",
              "<table border=\"1\" class=\"dataframe\">\n",
              "  <thead>\n",
              "    <tr style=\"text-align: right;\">\n",
              "      <th></th>\n",
              "      <th>male</th>\n",
              "      <th>age</th>\n",
              "      <th>education</th>\n",
              "      <th>currentSmoker</th>\n",
              "      <th>cigsPerDay</th>\n",
              "      <th>BPMeds</th>\n",
              "      <th>prevalentStroke</th>\n",
              "      <th>prevalentHyp</th>\n",
              "      <th>diabetes</th>\n",
              "      <th>totChol</th>\n",
              "      <th>sysBP</th>\n",
              "      <th>diaBP</th>\n",
              "      <th>BMI</th>\n",
              "      <th>heartRate</th>\n",
              "      <th>glucose</th>\n",
              "    </tr>\n",
              "  </thead>\n",
              "  <tbody>\n",
              "    <tr>\n",
              "      <th>0</th>\n",
              "      <td>1.0</td>\n",
              "      <td>39.0</td>\n",
              "      <td>4.0</td>\n",
              "      <td>0.0</td>\n",
              "      <td>0.0</td>\n",
              "      <td>0.0</td>\n",
              "      <td>0.0</td>\n",
              "      <td>0.0</td>\n",
              "      <td>0.0</td>\n",
              "      <td>195.0</td>\n",
              "      <td>106.0</td>\n",
              "      <td>70.0</td>\n",
              "      <td>26.97</td>\n",
              "      <td>80.0</td>\n",
              "      <td>77.0</td>\n",
              "    </tr>\n",
              "    <tr>\n",
              "      <th>1</th>\n",
              "      <td>0.0</td>\n",
              "      <td>46.0</td>\n",
              "      <td>2.0</td>\n",
              "      <td>0.0</td>\n",
              "      <td>0.0</td>\n",
              "      <td>0.0</td>\n",
              "      <td>0.0</td>\n",
              "      <td>0.0</td>\n",
              "      <td>0.0</td>\n",
              "      <td>250.0</td>\n",
              "      <td>121.0</td>\n",
              "      <td>81.0</td>\n",
              "      <td>28.73</td>\n",
              "      <td>95.0</td>\n",
              "      <td>76.0</td>\n",
              "    </tr>\n",
              "    <tr>\n",
              "      <th>2</th>\n",
              "      <td>1.0</td>\n",
              "      <td>48.0</td>\n",
              "      <td>1.0</td>\n",
              "      <td>1.0</td>\n",
              "      <td>20.0</td>\n",
              "      <td>0.0</td>\n",
              "      <td>0.0</td>\n",
              "      <td>0.0</td>\n",
              "      <td>0.0</td>\n",
              "      <td>245.0</td>\n",
              "      <td>127.5</td>\n",
              "      <td>80.0</td>\n",
              "      <td>25.34</td>\n",
              "      <td>75.0</td>\n",
              "      <td>70.0</td>\n",
              "    </tr>\n",
              "    <tr>\n",
              "      <th>3</th>\n",
              "      <td>0.0</td>\n",
              "      <td>61.0</td>\n",
              "      <td>3.0</td>\n",
              "      <td>1.0</td>\n",
              "      <td>30.0</td>\n",
              "      <td>0.0</td>\n",
              "      <td>0.0</td>\n",
              "      <td>1.0</td>\n",
              "      <td>0.0</td>\n",
              "      <td>225.0</td>\n",
              "      <td>150.0</td>\n",
              "      <td>95.0</td>\n",
              "      <td>28.58</td>\n",
              "      <td>65.0</td>\n",
              "      <td>103.0</td>\n",
              "    </tr>\n",
              "    <tr>\n",
              "      <th>4</th>\n",
              "      <td>0.0</td>\n",
              "      <td>46.0</td>\n",
              "      <td>3.0</td>\n",
              "      <td>1.0</td>\n",
              "      <td>23.0</td>\n",
              "      <td>0.0</td>\n",
              "      <td>0.0</td>\n",
              "      <td>0.0</td>\n",
              "      <td>0.0</td>\n",
              "      <td>285.0</td>\n",
              "      <td>130.0</td>\n",
              "      <td>84.0</td>\n",
              "      <td>23.10</td>\n",
              "      <td>85.0</td>\n",
              "      <td>85.0</td>\n",
              "    </tr>\n",
              "  </tbody>\n",
              "</table>\n",
              "</div>\n",
              "      <button class=\"colab-df-convert\" onclick=\"convertToInteractive('df-80ab5669-4855-4035-b41d-5e07a89a18ef')\"\n",
              "              title=\"Convert this dataframe to an interactive table.\"\n",
              "              style=\"display:none;\">\n",
              "        \n",
              "  <svg xmlns=\"http://www.w3.org/2000/svg\" height=\"24px\"viewBox=\"0 0 24 24\"\n",
              "       width=\"24px\">\n",
              "    <path d=\"M0 0h24v24H0V0z\" fill=\"none\"/>\n",
              "    <path d=\"M18.56 5.44l.94 2.06.94-2.06 2.06-.94-2.06-.94-.94-2.06-.94 2.06-2.06.94zm-11 1L8.5 8.5l.94-2.06 2.06-.94-2.06-.94L8.5 2.5l-.94 2.06-2.06.94zm10 10l.94 2.06.94-2.06 2.06-.94-2.06-.94-.94-2.06-.94 2.06-2.06.94z\"/><path d=\"M17.41 7.96l-1.37-1.37c-.4-.4-.92-.59-1.43-.59-.52 0-1.04.2-1.43.59L10.3 9.45l-7.72 7.72c-.78.78-.78 2.05 0 2.83L4 21.41c.39.39.9.59 1.41.59.51 0 1.02-.2 1.41-.59l7.78-7.78 2.81-2.81c.8-.78.8-2.07 0-2.86zM5.41 20L4 18.59l7.72-7.72 1.47 1.35L5.41 20z\"/>\n",
              "  </svg>\n",
              "      </button>\n",
              "      \n",
              "  <style>\n",
              "    .colab-df-container {\n",
              "      display:flex;\n",
              "      flex-wrap:wrap;\n",
              "      gap: 12px;\n",
              "    }\n",
              "\n",
              "    .colab-df-convert {\n",
              "      background-color: #E8F0FE;\n",
              "      border: none;\n",
              "      border-radius: 50%;\n",
              "      cursor: pointer;\n",
              "      display: none;\n",
              "      fill: #1967D2;\n",
              "      height: 32px;\n",
              "      padding: 0 0 0 0;\n",
              "      width: 32px;\n",
              "    }\n",
              "\n",
              "    .colab-df-convert:hover {\n",
              "      background-color: #E2EBFA;\n",
              "      box-shadow: 0px 1px 2px rgba(60, 64, 67, 0.3), 0px 1px 3px 1px rgba(60, 64, 67, 0.15);\n",
              "      fill: #174EA6;\n",
              "    }\n",
              "\n",
              "    [theme=dark] .colab-df-convert {\n",
              "      background-color: #3B4455;\n",
              "      fill: #D2E3FC;\n",
              "    }\n",
              "\n",
              "    [theme=dark] .colab-df-convert:hover {\n",
              "      background-color: #434B5C;\n",
              "      box-shadow: 0px 1px 3px 1px rgba(0, 0, 0, 0.15);\n",
              "      filter: drop-shadow(0px 1px 2px rgba(0, 0, 0, 0.3));\n",
              "      fill: #FFFFFF;\n",
              "    }\n",
              "  </style>\n",
              "\n",
              "      <script>\n",
              "        const buttonEl =\n",
              "          document.querySelector('#df-80ab5669-4855-4035-b41d-5e07a89a18ef button.colab-df-convert');\n",
              "        buttonEl.style.display =\n",
              "          google.colab.kernel.accessAllowed ? 'block' : 'none';\n",
              "\n",
              "        async function convertToInteractive(key) {\n",
              "          const element = document.querySelector('#df-80ab5669-4855-4035-b41d-5e07a89a18ef');\n",
              "          const dataTable =\n",
              "            await google.colab.kernel.invokeFunction('convertToInteractive',\n",
              "                                                     [key], {});\n",
              "          if (!dataTable) return;\n",
              "\n",
              "          const docLinkHtml = 'Like what you see? Visit the ' +\n",
              "            '<a target=\"_blank\" href=https://colab.research.google.com/notebooks/data_table.ipynb>data table notebook</a>'\n",
              "            + ' to learn more about interactive tables.';\n",
              "          element.innerHTML = '';\n",
              "          dataTable['output_type'] = 'display_data';\n",
              "          await google.colab.output.renderOutput(dataTable, element);\n",
              "          const docLink = document.createElement('div');\n",
              "          docLink.innerHTML = docLinkHtml;\n",
              "          element.appendChild(docLink);\n",
              "        }\n",
              "      </script>\n",
              "    </div>\n",
              "  </div>\n",
              "  "
            ]
          },
          "metadata": {},
          "execution_count": 42
        }
      ]
    },
    {
      "cell_type": "code",
      "source": [
        "y_labels = X.iloc[:,-1]\n",
        "y_labels.head()"
      ],
      "metadata": {
        "colab": {
          "base_uri": "https://localhost:8080/"
        },
        "id": "g_yxWRCKpjcF",
        "outputId": "4108858f-651f-46e7-d3b5-ee579a734895"
      },
      "execution_count": 43,
      "outputs": [
        {
          "output_type": "execute_result",
          "data": {
            "text/plain": [
              "0    0.0\n",
              "1    0.0\n",
              "2    0.0\n",
              "3    1.0\n",
              "4    0.0\n",
              "Name: TenYearCHD, dtype: float64"
            ]
          },
          "metadata": {},
          "execution_count": 43
        }
      ]
    },
    {
      "cell_type": "markdown",
      "source": [
        "**SELECT BEST 10 FEATURES USING SKLEARN SELECTKBEST**"
      ],
      "metadata": {
        "id": "19AhEkca_iD7"
      }
    },
    {
      "cell_type": "code",
      "source": [
        "from sklearn.feature_selection import f_classif"
      ],
      "metadata": {
        "id": "PHLMnJchjRLv"
      },
      "execution_count": 44,
      "outputs": []
    },
    {
      "cell_type": "code",
      "source": [
        "best_features = SelectKBest(score_func=f_classif, k=10)\n",
        "fit_features = best_features.fit(X_features, y_labels)"
      ],
      "metadata": {
        "id": "1QRAjxVGpjfM"
      },
      "execution_count": 45,
      "outputs": []
    },
    {
      "cell_type": "code",
      "source": [
        "dfscores = pd.DataFrame(fit_features.scores_)\n",
        "dfcolumns = pd.DataFrame(X_features.columns)"
      ],
      "metadata": {
        "id": "TM1h74FKpjiT"
      },
      "execution_count": 46,
      "outputs": []
    },
    {
      "cell_type": "code",
      "source": [
        "feature_scores = pd.concat([dfscores, dfcolumns], axis=1)\n",
        "feature_scores.columns = ['Scores','feature']"
      ],
      "metadata": {
        "id": "9c1SPouTpjlM"
      },
      "execution_count": 47,
      "outputs": []
    },
    {
      "cell_type": "code",
      "source": [
        "# Default score function\n",
        "print(feature_scores.nlargest(10,'Scores'))"
      ],
      "metadata": {
        "colab": {
          "base_uri": "https://localhost:8080/"
        },
        "id": "3uvqGT_ujZHE",
        "outputId": "fb11ce1d-f837-4a59-d144-05ebd7bbf95d"
      },
      "execution_count": null,
      "outputs": [
        {
          "output_type": "stream",
          "name": "stdout",
          "text": [
            "        Scores       feature\n",
            "1   224.860680           age\n",
            "10  206.533429         sysBP\n",
            "7   136.865317  prevalentHyp\n",
            "11   91.945619         diaBP\n",
            "14   62.155605       glucose\n",
            "8    40.621468      diabetes\n",
            "0    32.943066          male\n",
            "5    32.246747        BPMeds\n",
            "9    28.600402       totChol\n",
            "12   23.481451           BMI\n"
          ]
        }
      ]
    },
    {
      "cell_type": "code",
      "source": [
        "# chi2 test\n",
        "print(feature_scores.nlargest(10,'Scores'))"
      ],
      "metadata": {
        "colab": {
          "base_uri": "https://localhost:8080/"
        },
        "id": "VeWXrX99pjom",
        "outputId": "4ea77d66-f1b5-4325-fa3e-2e6a881299a6"
      },
      "execution_count": null,
      "outputs": [
        {
          "output_type": "stream",
          "name": "stdout",
          "text": [
            "        Scores       feature\n",
            "10  722.475156         sysBP\n",
            "14  389.923445       glucose\n",
            "1   316.388843           age\n",
            "9   235.894624       totChol\n",
            "4   218.790289    cigsPerDay\n",
            "11  154.070137         diaBP\n",
            "7    91.475933  prevalentHyp\n",
            "8    39.218958      diabetes\n",
            "5    30.680624        BPMeds\n",
            "0    18.671589          male\n"
          ]
        }
      ]
    },
    {
      "cell_type": "markdown",
      "source": [
        "Best features data fram"
      ],
      "metadata": {
        "id": "2h-1Xe8_GHk_"
      }
    },
    {
      "cell_type": "code",
      "source": [
        "X_new = X_features[[\"male\", \"age\", \"cigsPerDay\",\t\"BPMeds\",\t\"prevalentHyp\",\t\"diabetes\",\t\"totChol\",\"sysBP\",\"diaBP\", \"glucose\"]]\n",
        "X_new.head()"
      ],
      "metadata": {
        "colab": {
          "base_uri": "https://localhost:8080/",
          "height": 206
        },
        "id": "EKpvlZ0VOA4q",
        "outputId": "c5f92140-ee4a-4188-c807-ca899da896f2"
      },
      "execution_count": 48,
      "outputs": [
        {
          "output_type": "execute_result",
          "data": {
            "text/plain": [
              "   male   age  cigsPerDay  BPMeds  prevalentHyp  diabetes  totChol  sysBP  \\\n",
              "0   1.0  39.0         0.0     0.0           0.0       0.0    195.0  106.0   \n",
              "1   0.0  46.0         0.0     0.0           0.0       0.0    250.0  121.0   \n",
              "2   1.0  48.0        20.0     0.0           0.0       0.0    245.0  127.5   \n",
              "3   0.0  61.0        30.0     0.0           1.0       0.0    225.0  150.0   \n",
              "4   0.0  46.0        23.0     0.0           0.0       0.0    285.0  130.0   \n",
              "\n",
              "   diaBP  glucose  \n",
              "0   70.0     77.0  \n",
              "1   81.0     76.0  \n",
              "2   80.0     70.0  \n",
              "3   95.0    103.0  \n",
              "4   84.0     85.0  "
            ],
            "text/html": [
              "\n",
              "  <div id=\"df-0d85a9ea-f169-449c-bacf-a1109e73c89b\">\n",
              "    <div class=\"colab-df-container\">\n",
              "      <div>\n",
              "<style scoped>\n",
              "    .dataframe tbody tr th:only-of-type {\n",
              "        vertical-align: middle;\n",
              "    }\n",
              "\n",
              "    .dataframe tbody tr th {\n",
              "        vertical-align: top;\n",
              "    }\n",
              "\n",
              "    .dataframe thead th {\n",
              "        text-align: right;\n",
              "    }\n",
              "</style>\n",
              "<table border=\"1\" class=\"dataframe\">\n",
              "  <thead>\n",
              "    <tr style=\"text-align: right;\">\n",
              "      <th></th>\n",
              "      <th>male</th>\n",
              "      <th>age</th>\n",
              "      <th>cigsPerDay</th>\n",
              "      <th>BPMeds</th>\n",
              "      <th>prevalentHyp</th>\n",
              "      <th>diabetes</th>\n",
              "      <th>totChol</th>\n",
              "      <th>sysBP</th>\n",
              "      <th>diaBP</th>\n",
              "      <th>glucose</th>\n",
              "    </tr>\n",
              "  </thead>\n",
              "  <tbody>\n",
              "    <tr>\n",
              "      <th>0</th>\n",
              "      <td>1.0</td>\n",
              "      <td>39.0</td>\n",
              "      <td>0.0</td>\n",
              "      <td>0.0</td>\n",
              "      <td>0.0</td>\n",
              "      <td>0.0</td>\n",
              "      <td>195.0</td>\n",
              "      <td>106.0</td>\n",
              "      <td>70.0</td>\n",
              "      <td>77.0</td>\n",
              "    </tr>\n",
              "    <tr>\n",
              "      <th>1</th>\n",
              "      <td>0.0</td>\n",
              "      <td>46.0</td>\n",
              "      <td>0.0</td>\n",
              "      <td>0.0</td>\n",
              "      <td>0.0</td>\n",
              "      <td>0.0</td>\n",
              "      <td>250.0</td>\n",
              "      <td>121.0</td>\n",
              "      <td>81.0</td>\n",
              "      <td>76.0</td>\n",
              "    </tr>\n",
              "    <tr>\n",
              "      <th>2</th>\n",
              "      <td>1.0</td>\n",
              "      <td>48.0</td>\n",
              "      <td>20.0</td>\n",
              "      <td>0.0</td>\n",
              "      <td>0.0</td>\n",
              "      <td>0.0</td>\n",
              "      <td>245.0</td>\n",
              "      <td>127.5</td>\n",
              "      <td>80.0</td>\n",
              "      <td>70.0</td>\n",
              "    </tr>\n",
              "    <tr>\n",
              "      <th>3</th>\n",
              "      <td>0.0</td>\n",
              "      <td>61.0</td>\n",
              "      <td>30.0</td>\n",
              "      <td>0.0</td>\n",
              "      <td>1.0</td>\n",
              "      <td>0.0</td>\n",
              "      <td>225.0</td>\n",
              "      <td>150.0</td>\n",
              "      <td>95.0</td>\n",
              "      <td>103.0</td>\n",
              "    </tr>\n",
              "    <tr>\n",
              "      <th>4</th>\n",
              "      <td>0.0</td>\n",
              "      <td>46.0</td>\n",
              "      <td>23.0</td>\n",
              "      <td>0.0</td>\n",
              "      <td>0.0</td>\n",
              "      <td>0.0</td>\n",
              "      <td>285.0</td>\n",
              "      <td>130.0</td>\n",
              "      <td>84.0</td>\n",
              "      <td>85.0</td>\n",
              "    </tr>\n",
              "  </tbody>\n",
              "</table>\n",
              "</div>\n",
              "      <button class=\"colab-df-convert\" onclick=\"convertToInteractive('df-0d85a9ea-f169-449c-bacf-a1109e73c89b')\"\n",
              "              title=\"Convert this dataframe to an interactive table.\"\n",
              "              style=\"display:none;\">\n",
              "        \n",
              "  <svg xmlns=\"http://www.w3.org/2000/svg\" height=\"24px\"viewBox=\"0 0 24 24\"\n",
              "       width=\"24px\">\n",
              "    <path d=\"M0 0h24v24H0V0z\" fill=\"none\"/>\n",
              "    <path d=\"M18.56 5.44l.94 2.06.94-2.06 2.06-.94-2.06-.94-.94-2.06-.94 2.06-2.06.94zm-11 1L8.5 8.5l.94-2.06 2.06-.94-2.06-.94L8.5 2.5l-.94 2.06-2.06.94zm10 10l.94 2.06.94-2.06 2.06-.94-2.06-.94-.94-2.06-.94 2.06-2.06.94z\"/><path d=\"M17.41 7.96l-1.37-1.37c-.4-.4-.92-.59-1.43-.59-.52 0-1.04.2-1.43.59L10.3 9.45l-7.72 7.72c-.78.78-.78 2.05 0 2.83L4 21.41c.39.39.9.59 1.41.59.51 0 1.02-.2 1.41-.59l7.78-7.78 2.81-2.81c.8-.78.8-2.07 0-2.86zM5.41 20L4 18.59l7.72-7.72 1.47 1.35L5.41 20z\"/>\n",
              "  </svg>\n",
              "      </button>\n",
              "      \n",
              "  <style>\n",
              "    .colab-df-container {\n",
              "      display:flex;\n",
              "      flex-wrap:wrap;\n",
              "      gap: 12px;\n",
              "    }\n",
              "\n",
              "    .colab-df-convert {\n",
              "      background-color: #E8F0FE;\n",
              "      border: none;\n",
              "      border-radius: 50%;\n",
              "      cursor: pointer;\n",
              "      display: none;\n",
              "      fill: #1967D2;\n",
              "      height: 32px;\n",
              "      padding: 0 0 0 0;\n",
              "      width: 32px;\n",
              "    }\n",
              "\n",
              "    .colab-df-convert:hover {\n",
              "      background-color: #E2EBFA;\n",
              "      box-shadow: 0px 1px 2px rgba(60, 64, 67, 0.3), 0px 1px 3px 1px rgba(60, 64, 67, 0.15);\n",
              "      fill: #174EA6;\n",
              "    }\n",
              "\n",
              "    [theme=dark] .colab-df-convert {\n",
              "      background-color: #3B4455;\n",
              "      fill: #D2E3FC;\n",
              "    }\n",
              "\n",
              "    [theme=dark] .colab-df-convert:hover {\n",
              "      background-color: #434B5C;\n",
              "      box-shadow: 0px 1px 3px 1px rgba(0, 0, 0, 0.15);\n",
              "      filter: drop-shadow(0px 1px 2px rgba(0, 0, 0, 0.3));\n",
              "      fill: #FFFFFF;\n",
              "    }\n",
              "  </style>\n",
              "\n",
              "      <script>\n",
              "        const buttonEl =\n",
              "          document.querySelector('#df-0d85a9ea-f169-449c-bacf-a1109e73c89b button.colab-df-convert');\n",
              "        buttonEl.style.display =\n",
              "          google.colab.kernel.accessAllowed ? 'block' : 'none';\n",
              "\n",
              "        async function convertToInteractive(key) {\n",
              "          const element = document.querySelector('#df-0d85a9ea-f169-449c-bacf-a1109e73c89b');\n",
              "          const dataTable =\n",
              "            await google.colab.kernel.invokeFunction('convertToInteractive',\n",
              "                                                     [key], {});\n",
              "          if (!dataTable) return;\n",
              "\n",
              "          const docLinkHtml = 'Like what you see? Visit the ' +\n",
              "            '<a target=\"_blank\" href=https://colab.research.google.com/notebooks/data_table.ipynb>data table notebook</a>'\n",
              "            + ' to learn more about interactive tables.';\n",
              "          element.innerHTML = '';\n",
              "          dataTable['output_type'] = 'display_data';\n",
              "          await google.colab.output.renderOutput(dataTable, element);\n",
              "          const docLink = document.createElement('div');\n",
              "          docLink.innerHTML = docLinkHtml;\n",
              "          element.appendChild(docLink);\n",
              "        }\n",
              "      </script>\n",
              "    </div>\n",
              "  </div>\n",
              "  "
            ]
          },
          "metadata": {},
          "execution_count": 48
        }
      ]
    },
    {
      "cell_type": "markdown",
      "source": [
        "**LETS DEAL WITH THE IMBALANCE CLASS**"
      ],
      "metadata": {
        "id": "iDboaLjG_23o"
      }
    },
    {
      "cell_type": "code",
      "source": [
        "labels_counts = y_labels.value_counts()\n",
        "labels_counts.plot(kind=\"bar\", rot=0)\n",
        "plt.title(\"TenYearCHD Distribution\")\n",
        "plt.xlabel(\"Class\")\n",
        "plt.ylabel(\"Frequency\")\n"
      ],
      "metadata": {
        "colab": {
          "base_uri": "https://localhost:8080/",
          "height": 312
        },
        "id": "7n4m16Oepjrx",
        "outputId": "1009a325-ce34-4637-f021-e5e880268b22"
      },
      "execution_count": 49,
      "outputs": [
        {
          "output_type": "execute_result",
          "data": {
            "text/plain": [
              "Text(0, 0.5, 'Frequency')"
            ]
          },
          "metadata": {},
          "execution_count": 49
        },
        {
          "output_type": "display_data",
          "data": {
            "text/plain": [
              "<Figure size 432x288 with 1 Axes>"
            ],
            "image/png": "[encoded data removed]"
          },
          "metadata": {
            "needs_background": "light"
          }
        }
      ]
    },
    {
      "cell_type": "code",
      "source": [
        "y_labels.shape"
      ],
      "metadata": {
        "colab": {
          "base_uri": "https://localhost:8080/"
        },
        "id": "FUHRq-7GpjvF",
        "outputId": "bc6efa0d-7157-4949-d8ce-16d325c8184e"
      },
      "execution_count": 50,
      "outputs": [
        {
          "output_type": "execute_result",
          "data": {
            "text/plain": [
              "(4237,)"
            ]
          },
          "metadata": {},
          "execution_count": 50
        }
      ]
    },
    {
      "cell_type": "code",
      "source": [
        "smk = SMOTETomek(random_state=67)\n",
        "X_f_rshape,y_l_rshape = smk.fit_resample(X_new,y_labels)"
      ],
      "metadata": {
        "id": "64nvuPVYpjx-"
      },
      "execution_count": 51,
      "outputs": []
    },
    {
      "cell_type": "code",
      "source": [
        "print(X_f_rshape.shape,y_l_rshape.shape)"
      ],
      "metadata": {
        "colab": {
          "base_uri": "https://localhost:8080/"
        },
        "id": "jZ1hhXEILPSV",
        "outputId": "2ff08283-e92f-4ffe-9a7a-3e5145591b1b"
      },
      "execution_count": 52,
      "outputs": [
        {
          "output_type": "stream",
          "name": "stdout",
          "text": [
            "(7050, 10) (7050,)\n"
          ]
        }
      ]
    },
    {
      "cell_type": "code",
      "source": [
        "X_f_rshape.head()"
      ],
      "metadata": {
        "colab": {
          "base_uri": "https://localhost:8080/",
          "height": 206
        },
        "id": "bSzgMaqoVgGa",
        "outputId": "273544d6-07ea-404c-d62e-0a4ce714456d"
      },
      "execution_count": 53,
      "outputs": [
        {
          "output_type": "execute_result",
          "data": {
            "text/plain": [
              "   male   age  cigsPerDay  BPMeds  prevalentHyp  diabetes  totChol  sysBP  \\\n",
              "0   1.0  39.0         0.0     0.0           0.0       0.0    195.0  106.0   \n",
              "1   0.0  46.0         0.0     0.0           0.0       0.0    250.0  121.0   \n",
              "2   1.0  48.0        20.0     0.0           0.0       0.0    245.0  127.5   \n",
              "3   0.0  61.0        30.0     0.0           1.0       0.0    225.0  150.0   \n",
              "4   0.0  46.0        23.0     0.0           0.0       0.0    285.0  130.0   \n",
              "\n",
              "   diaBP  glucose  \n",
              "0   70.0     77.0  \n",
              "1   81.0     76.0  \n",
              "2   80.0     70.0  \n",
              "3   95.0    103.0  \n",
              "4   84.0     85.0  "
            ],
            "text/html": [
              "\n",
              "  <div id=\"df-1f41e62c-ebb0-49c0-a2b8-74849844ef71\">\n",
              "    <div class=\"colab-df-container\">\n",
              "      <div>\n",
              "<style scoped>\n",
              "    .dataframe tbody tr th:only-of-type {\n",
              "        vertical-align: middle;\n",
              "    }\n",
              "\n",
              "    .dataframe tbody tr th {\n",
              "        vertical-align: top;\n",
              "    }\n",
              "\n",
              "    .dataframe thead th {\n",
              "        text-align: right;\n",
              "    }\n",
              "</style>\n",
              "<table border=\"1\" class=\"dataframe\">\n",
              "  <thead>\n",
              "    <tr style=\"text-align: right;\">\n",
              "      <th></th>\n",
              "      <th>male</th>\n",
              "      <th>age</th>\n",
              "      <th>cigsPerDay</th>\n",
              "      <th>BPMeds</th>\n",
              "      <th>prevalentHyp</th>\n",
              "      <th>diabetes</th>\n",
              "      <th>totChol</th>\n",
              "      <th>sysBP</th>\n",
              "      <th>diaBP</th>\n",
              "      <th>glucose</th>\n",
              "    </tr>\n",
              "  </thead>\n",
              "  <tbody>\n",
              "    <tr>\n",
              "      <th>0</th>\n",
              "      <td>1.0</td>\n",
              "      <td>39.0</td>\n",
              "      <td>0.0</td>\n",
              "      <td>0.0</td>\n",
              "      <td>0.0</td>\n",
              "      <td>0.0</td>\n",
              "      <td>195.0</td>\n",
              "      <td>106.0</td>\n",
              "      <td>70.0</td>\n",
              "      <td>77.0</td>\n",
              "    </tr>\n",
              "    <tr>\n",
              "      <th>1</th>\n",
              "      <td>0.0</td>\n",
              "      <td>46.0</td>\n",
              "      <td>0.0</td>\n",
              "      <td>0.0</td>\n",
              "      <td>0.0</td>\n",
              "      <td>0.0</td>\n",
              "      <td>250.0</td>\n",
              "      <td>121.0</td>\n",
              "      <td>81.0</td>\n",
              "      <td>76.0</td>\n",
              "    </tr>\n",
              "    <tr>\n",
              "      <th>2</th>\n",
              "      <td>1.0</td>\n",
              "      <td>48.0</td>\n",
              "      <td>20.0</td>\n",
              "      <td>0.0</td>\n",
              "      <td>0.0</td>\n",
              "      <td>0.0</td>\n",
              "      <td>245.0</td>\n",
              "      <td>127.5</td>\n",
              "      <td>80.0</td>\n",
              "      <td>70.0</td>\n",
              "    </tr>\n",
              "    <tr>\n",
              "      <th>3</th>\n",
              "      <td>0.0</td>\n",
              "      <td>61.0</td>\n",
              "      <td>30.0</td>\n",
              "      <td>0.0</td>\n",
              "      <td>1.0</td>\n",
              "      <td>0.0</td>\n",
              "      <td>225.0</td>\n",
              "      <td>150.0</td>\n",
              "      <td>95.0</td>\n",
              "      <td>103.0</td>\n",
              "    </tr>\n",
              "    <tr>\n",
              "      <th>4</th>\n",
              "      <td>0.0</td>\n",
              "      <td>46.0</td>\n",
              "      <td>23.0</td>\n",
              "      <td>0.0</td>\n",
              "      <td>0.0</td>\n",
              "      <td>0.0</td>\n",
              "      <td>285.0</td>\n",
              "      <td>130.0</td>\n",
              "      <td>84.0</td>\n",
              "      <td>85.0</td>\n",
              "    </tr>\n",
              "  </tbody>\n",
              "</table>\n",
              "</div>\n",
              "      <button class=\"colab-df-convert\" onclick=\"convertToInteractive('df-1f41e62c-ebb0-49c0-a2b8-74849844ef71')\"\n",
              "              title=\"Convert this dataframe to an interactive table.\"\n",
              "              style=\"display:none;\">\n",
              "        \n",
              "  <svg xmlns=\"http://www.w3.org/2000/svg\" height=\"24px\"viewBox=\"0 0 24 24\"\n",
              "       width=\"24px\">\n",
              "    <path d=\"M0 0h24v24H0V0z\" fill=\"none\"/>\n",
              "    <path d=\"M18.56 5.44l.94 2.06.94-2.06 2.06-.94-2.06-.94-.94-2.06-.94 2.06-2.06.94zm-11 1L8.5 8.5l.94-2.06 2.06-.94-2.06-.94L8.5 2.5l-.94 2.06-2.06.94zm10 10l.94 2.06.94-2.06 2.06-.94-2.06-.94-.94-2.06-.94 2.06-2.06.94z\"/><path d=\"M17.41 7.96l-1.37-1.37c-.4-.4-.92-.59-1.43-.59-.52 0-1.04.2-1.43.59L10.3 9.45l-7.72 7.72c-.78.78-.78 2.05 0 2.83L4 21.41c.39.39.9.59 1.41.59.51 0 1.02-.2 1.41-.59l7.78-7.78 2.81-2.81c.8-.78.8-2.07 0-2.86zM5.41 20L4 18.59l7.72-7.72 1.47 1.35L5.41 20z\"/>\n",
              "  </svg>\n",
              "      </button>\n",
              "      \n",
              "  <style>\n",
              "    .colab-df-container {\n",
              "      display:flex;\n",
              "      flex-wrap:wrap;\n",
              "      gap: 12px;\n",
              "    }\n",
              "\n",
              "    .colab-df-convert {\n",
              "      background-color: #E8F0FE;\n",
              "      border: none;\n",
              "      border-radius: 50%;\n",
              "      cursor: pointer;\n",
              "      display: none;\n",
              "      fill: #1967D2;\n",
              "      height: 32px;\n",
              "      padding: 0 0 0 0;\n",
              "      width: 32px;\n",
              "    }\n",
              "\n",
              "    .colab-df-convert:hover {\n",
              "      background-color: #E2EBFA;\n",
              "      box-shadow: 0px 1px 2px rgba(60, 64, 67, 0.3), 0px 1px 3px 1px rgba(60, 64, 67, 0.15);\n",
              "      fill: #174EA6;\n",
              "    }\n",
              "\n",
              "    [theme=dark] .colab-df-convert {\n",
              "      background-color: #3B4455;\n",
              "      fill: #D2E3FC;\n",
              "    }\n",
              "\n",
              "    [theme=dark] .colab-df-convert:hover {\n",
              "      background-color: #434B5C;\n",
              "      box-shadow: 0px 1px 3px 1px rgba(0, 0, 0, 0.15);\n",
              "      filter: drop-shadow(0px 1px 2px rgba(0, 0, 0, 0.3));\n",
              "      fill: #FFFFFF;\n",
              "    }\n",
              "  </style>\n",
              "\n",
              "      <script>\n",
              "        const buttonEl =\n",
              "          document.querySelector('#df-1f41e62c-ebb0-49c0-a2b8-74849844ef71 button.colab-df-convert');\n",
              "        buttonEl.style.display =\n",
              "          google.colab.kernel.accessAllowed ? 'block' : 'none';\n",
              "\n",
              "        async function convertToInteractive(key) {\n",
              "          const element = document.querySelector('#df-1f41e62c-ebb0-49c0-a2b8-74849844ef71');\n",
              "          const dataTable =\n",
              "            await google.colab.kernel.invokeFunction('convertToInteractive',\n",
              "                                                     [key], {});\n",
              "          if (!dataTable) return;\n",
              "\n",
              "          const docLinkHtml = 'Like what you see? Visit the ' +\n",
              "            '<a target=\"_blank\" href=https://colab.research.google.com/notebooks/data_table.ipynb>data table notebook</a>'\n",
              "            + ' to learn more about interactive tables.';\n",
              "          element.innerHTML = '';\n",
              "          dataTable['output_type'] = 'display_data';\n",
              "          await google.colab.output.renderOutput(dataTable, element);\n",
              "          const docLink = document.createElement('div');\n",
              "          docLink.innerHTML = docLinkHtml;\n",
              "          element.appendChild(docLink);\n",
              "        }\n",
              "      </script>\n",
              "    </div>\n",
              "  </div>\n",
              "  "
            ]
          },
          "metadata": {},
          "execution_count": 53
        }
      ]
    },
    {
      "cell_type": "markdown",
      "source": [
        "### Convert nominal variable to dummies"
      ],
      "metadata": {
        "id": "g_WJa7sCUZA1"
      }
    },
    {
      "cell_type": "code",
      "source": [
        "X_train_n = pd.get_dummies(X_f_rshape, columns=[\"prevalentHyp\",\"diabetes\",\"BPMeds\",\"male\"])"
      ],
      "metadata": {
        "id": "5naCOwHVeuq2"
      },
      "execution_count": 54,
      "outputs": []
    },
    {
      "cell_type": "code",
      "source": [
        "X_train_n.head()"
      ],
      "metadata": {
        "colab": {
          "base_uri": "https://localhost:8080/",
          "height": 300
        },
        "id": "STxzgIPne-X9",
        "outputId": "c2ceabf7-742a-4983-c32b-4691af7855bd"
      },
      "execution_count": 55,
      "outputs": [
        {
          "output_type": "execute_result",
          "data": {
            "text/plain": [
              "    age  cigsPerDay  totChol  sysBP  diaBP  glucose  prevalentHyp_0.0  \\\n",
              "0  39.0         0.0    195.0  106.0   70.0     77.0                 1   \n",
              "1  46.0         0.0    250.0  121.0   81.0     76.0                 1   \n",
              "2  48.0        20.0    245.0  127.5   80.0     70.0                 1   \n",
              "3  61.0        30.0    225.0  150.0   95.0    103.0                 0   \n",
              "4  46.0        23.0    285.0  130.0   84.0     85.0                 1   \n",
              "\n",
              "   prevalentHyp_0.0003149991277840991  prevalentHyp_0.001552473295967416  \\\n",
              "0                                   0                                  0   \n",
              "1                                   0                                  0   \n",
              "2                                   0                                  0   \n",
              "3                                   0                                  0   \n",
              "4                                   0                                  0   \n",
              "\n",
              "   prevalentHyp_0.006298716704580376  ...  male_0.9925012847010988  \\\n",
              "0                                  0  ...                        0   \n",
              "1                                  0  ...                        0   \n",
              "2                                  0  ...                        0   \n",
              "3                                  0  ...                        0   \n",
              "4                                  0  ...                        0   \n",
              "\n",
              "   male_0.9938915498420202  male_0.9980775825021148  male_0.9981019456397495  \\\n",
              "0                        0                        0                        0   \n",
              "1                        0                        0                        0   \n",
              "2                        0                        0                        0   \n",
              "3                        0                        0                        0   \n",
              "4                        0                        0                        0   \n",
              "\n",
              "   male_0.9984193175517031  male_0.9987017806735136  male_0.9988636446052295  \\\n",
              "0                        0                        0                        0   \n",
              "1                        0                        0                        0   \n",
              "2                        0                        0                        0   \n",
              "3                        0                        0                        0   \n",
              "4                        0                        0                        0   \n",
              "\n",
              "   male_0.9988934341683796  male_0.9996850008722159  male_1.0  \n",
              "0                        0                        0         1  \n",
              "1                        0                        0         0  \n",
              "2                        0                        0         1  \n",
              "3                        0                        0         0  \n",
              "4                        0                        0         0  \n",
              "\n",
              "[5 rows x 2486 columns]"
            ],
            "text/html": [
              "\n",
              "  <div id=\"df-2f44d080-c988-4bb7-8d21-79afcc5adb69\">\n",
              "    <div class=\"colab-df-container\">\n",
              "      <div>\n",
              "<style scoped>\n",
              "    .dataframe tbody tr th:only-of-type {\n",
              "        vertical-align: middle;\n",
              "    }\n",
              "\n",
              "    .dataframe tbody tr th {\n",
              "        vertical-align: top;\n",
              "    }\n",
              "\n",
              "    .dataframe thead th {\n",
              "        text-align: right;\n",
              "    }\n",
              "</style>\n",
              "<table border=\"1\" class=\"dataframe\">\n",
              "  <thead>\n",
              "    <tr style=\"text-align: right;\">\n",
              "      <th></th>\n",
              "      <th>age</th>\n",
              "      <th>cigsPerDay</th>\n",
              "      <th>totChol</th>\n",
              "      <th>sysBP</th>\n",
              "      <th>diaBP</th>\n",
              "      <th>glucose</th>\n",
              "      <th>prevalentHyp_0.0</th>\n",
              "      <th>prevalentHyp_0.0003149991277840991</th>\n",
              "      <th>prevalentHyp_0.001552473295967416</th>\n",
              "      <th>prevalentHyp_0.006298716704580376</th>\n",
              "      <th>...</th>\n",
              "      <th>male_0.9925012847010988</th>\n",
              "      <th>male_0.9938915498420202</th>\n",
              "      <th>male_0.9980775825021148</th>\n",
              "      <th>male_0.9981019456397495</th>\n",
              "      <th>male_0.9984193175517031</th>\n",
              "      <th>male_0.9987017806735136</th>\n",
              "      <th>male_0.9988636446052295</th>\n",
              "      <th>male_0.9988934341683796</th>\n",
              "      <th>male_0.9996850008722159</th>\n",
              "      <th>male_1.0</th>\n",
              "    </tr>\n",
              "  </thead>\n",
              "  <tbody>\n",
              "    <tr>\n",
              "      <th>0</th>\n",
              "      <td>39.0</td>\n",
              "      <td>0.0</td>\n",
              "      <td>195.0</td>\n",
              "      <td>106.0</td>\n",
              "      <td>70.0</td>\n",
              "      <td>77.0</td>\n",
              "      <td>1</td>\n",
              "      <td>0</td>\n",
              "      <td>0</td>\n",
              "      <td>0</td>\n",
              "      <td>...</td>\n",
              "      <td>0</td>\n",
              "      <td>0</td>\n",
              "      <td>0</td>\n",
              "      <td>0</td>\n",
              "      <td>0</td>\n",
              "      <td>0</td>\n",
              "      <td>0</td>\n",
              "      <td>0</td>\n",
              "      <td>0</td>\n",
              "      <td>1</td>\n",
              "    </tr>\n",
              "    <tr>\n",
              "      <th>1</th>\n",
              "      <td>46.0</td>\n",
              "      <td>0.0</td>\n",
              "      <td>250.0</td>\n",
              "      <td>121.0</td>\n",
              "      <td>81.0</td>\n",
              "      <td>76.0</td>\n",
              "      <td>1</td>\n",
              "      <td>0</td>\n",
              "      <td>0</td>\n",
              "      <td>0</td>\n",
              "      <td>...</td>\n",
              "      <td>0</td>\n",
              "      <td>0</td>\n",
              "      <td>0</td>\n",
              "      <td>0</td>\n",
              "      <td>0</td>\n",
              "      <td>0</td>\n",
              "      <td>0</td>\n",
              "      <td>0</td>\n",
              "      <td>0</td>\n",
              "      <td>0</td>\n",
              "    </tr>\n",
              "    <tr>\n",
              "      <th>2</th>\n",
              "      <td>48.0</td>\n",
              "      <td>20.0</td>\n",
              "      <td>245.0</td>\n",
              "      <td>127.5</td>\n",
              "      <td>80.0</td>\n",
              "      <td>70.0</td>\n",
              "      <td>1</td>\n",
              "      <td>0</td>\n",
              "      <td>0</td>\n",
              "      <td>0</td>\n",
              "      <td>...</td>\n",
              "      <td>0</td>\n",
              "      <td>0</td>\n",
              "      <td>0</td>\n",
              "      <td>0</td>\n",
              "      <td>0</td>\n",
              "      <td>0</td>\n",
              "      <td>0</td>\n",
              "      <td>0</td>\n",
              "      <td>0</td>\n",
              "      <td>1</td>\n",
              "    </tr>\n",
              "    <tr>\n",
              "      <th>3</th>\n",
              "      <td>61.0</td>\n",
              "      <td>30.0</td>\n",
              "      <td>225.0</td>\n",
              "      <td>150.0</td>\n",
              "      <td>95.0</td>\n",
              "      <td>103.0</td>\n",
              "      <td>0</td>\n",
              "      <td>0</td>\n",
              "      <td>0</td>\n",
              "      <td>0</td>\n",
              "      <td>...</td>\n",
              "      <td>0</td>\n",
              "      <td>0</td>\n",
              "      <td>0</td>\n",
              "      <td>0</td>\n",
              "      <td>0</td>\n",
              "      <td>0</td>\n",
              "      <td>0</td>\n",
              "      <td>0</td>\n",
              "      <td>0</td>\n",
              "      <td>0</td>\n",
              "    </tr>\n",
              "    <tr>\n",
              "      <th>4</th>\n",
              "      <td>46.0</td>\n",
              "      <td>23.0</td>\n",
              "      <td>285.0</td>\n",
              "      <td>130.0</td>\n",
              "      <td>84.0</td>\n",
              "      <td>85.0</td>\n",
              "      <td>1</td>\n",
              "      <td>0</td>\n",
              "      <td>0</td>\n",
              "      <td>0</td>\n",
              "      <td>...</td>\n",
              "      <td>0</td>\n",
              "      <td>0</td>\n",
              "      <td>0</td>\n",
              "      <td>0</td>\n",
              "      <td>0</td>\n",
              "      <td>0</td>\n",
              "      <td>0</td>\n",
              "      <td>0</td>\n",
              "      <td>0</td>\n",
              "      <td>0</td>\n",
              "    </tr>\n",
              "  </tbody>\n",
              "</table>\n",
              "<p>5 rows × 2486 columns</p>\n",
              "</div>\n",
              "      <button class=\"colab-df-convert\" onclick=\"convertToInteractive('df-2f44d080-c988-4bb7-8d21-79afcc5adb69')\"\n",
              "              title=\"Convert this dataframe to an interactive table.\"\n",
              "              style=\"display:none;\">\n",
              "        \n",
              "  <svg xmlns=\"http://www.w3.org/2000/svg\" height=\"24px\"viewBox=\"0 0 24 24\"\n",
              "       width=\"24px\">\n",
              "    <path d=\"M0 0h24v24H0V0z\" fill=\"none\"/>\n",
              "    <path d=\"M18.56 5.44l.94 2.06.94-2.06 2.06-.94-2.06-.94-.94-2.06-.94 2.06-2.06.94zm-11 1L8.5 8.5l.94-2.06 2.06-.94-2.06-.94L8.5 2.5l-.94 2.06-2.06.94zm10 10l.94 2.06.94-2.06 2.06-.94-2.06-.94-.94-2.06-.94 2.06-2.06.94z\"/><path d=\"M17.41 7.96l-1.37-1.37c-.4-.4-.92-.59-1.43-.59-.52 0-1.04.2-1.43.59L10.3 9.45l-7.72 7.72c-.78.78-.78 2.05 0 2.83L4 21.41c.39.39.9.59 1.41.59.51 0 1.02-.2 1.41-.59l7.78-7.78 2.81-2.81c.8-.78.8-2.07 0-2.86zM5.41 20L4 18.59l7.72-7.72 1.47 1.35L5.41 20z\"/>\n",
              "  </svg>\n",
              "      </button>\n",
              "      \n",
              "  <style>\n",
              "    .colab-df-container {\n",
              "      display:flex;\n",
              "      flex-wrap:wrap;\n",
              "      gap: 12px;\n",
              "    }\n",
              "\n",
              "    .colab-df-convert {\n",
              "      background-color: #E8F0FE;\n",
              "      border: none;\n",
              "      border-radius: 50%;\n",
              "      cursor: pointer;\n",
              "      display: none;\n",
              "      fill: #1967D2;\n",
              "      height: 32px;\n",
              "      padding: 0 0 0 0;\n",
              "      width: 32px;\n",
              "    }\n",
              "\n",
              "    .colab-df-convert:hover {\n",
              "      background-color: #E2EBFA;\n",
              "      box-shadow: 0px 1px 2px rgba(60, 64, 67, 0.3), 0px 1px 3px 1px rgba(60, 64, 67, 0.15);\n",
              "      fill: #174EA6;\n",
              "    }\n",
              "\n",
              "    [theme=dark] .colab-df-convert {\n",
              "      background-color: #3B4455;\n",
              "      fill: #D2E3FC;\n",
              "    }\n",
              "\n",
              "    [theme=dark] .colab-df-convert:hover {\n",
              "      background-color: #434B5C;\n",
              "      box-shadow: 0px 1px 3px 1px rgba(0, 0, 0, 0.15);\n",
              "      filter: drop-shadow(0px 1px 2px rgba(0, 0, 0, 0.3));\n",
              "      fill: #FFFFFF;\n",
              "    }\n",
              "  </style>\n",
              "\n",
              "      <script>\n",
              "        const buttonEl =\n",
              "          document.querySelector('#df-2f44d080-c988-4bb7-8d21-79afcc5adb69 button.colab-df-convert');\n",
              "        buttonEl.style.display =\n",
              "          google.colab.kernel.accessAllowed ? 'block' : 'none';\n",
              "\n",
              "        async function convertToInteractive(key) {\n",
              "          const element = document.querySelector('#df-2f44d080-c988-4bb7-8d21-79afcc5adb69');\n",
              "          const dataTable =\n",
              "            await google.colab.kernel.invokeFunction('convertToInteractive',\n",
              "                                                     [key], {});\n",
              "          if (!dataTable) return;\n",
              "\n",
              "          const docLinkHtml = 'Like what you see? Visit the ' +\n",
              "            '<a target=\"_blank\" href=https://colab.research.google.com/notebooks/data_table.ipynb>data table notebook</a>'\n",
              "            + ' to learn more about interactive tables.';\n",
              "          element.innerHTML = '';\n",
              "          dataTable['output_type'] = 'display_data';\n",
              "          await google.colab.output.renderOutput(dataTable, element);\n",
              "          const docLink = document.createElement('div');\n",
              "          docLink.innerHTML = docLinkHtml;\n",
              "          element.appendChild(docLink);\n",
              "        }\n",
              "      </script>\n",
              "    </div>\n",
              "  </div>\n",
              "  "
            ]
          },
          "metadata": {},
          "execution_count": 55
        }
      ]
    },
    {
      "cell_type": "code",
      "source": [
        "X_train_n.shape"
      ],
      "metadata": {
        "colab": {
          "base_uri": "https://localhost:8080/"
        },
        "id": "a6ZIuC_7QFZL",
        "outputId": "3d442aa6-a444-4c1d-df8a-684166fe6578"
      },
      "execution_count": 56,
      "outputs": [
        {
          "output_type": "execute_result",
          "data": {
            "text/plain": [
              "(7050, 2486)"
            ]
          },
          "metadata": {},
          "execution_count": 56
        }
      ]
    },
    {
      "cell_type": "markdown",
      "source": [
        "**Scale the rest of the data**"
      ],
      "metadata": {
        "id": "O-J-2d3uYFf4"
      }
    },
    {
      "cell_type": "code",
      "source": [
        "standardscaler = StandardScaler()\n",
        "columns_to_scale = [\"sysBP\", \"glucose\", \"age\", \"totChol\", \"cigsPerDay\", \"diaBP\"]"
      ],
      "metadata": {
        "id": "6e-DwTq3Yj1v"
      },
      "execution_count": 57,
      "outputs": []
    },
    {
      "cell_type": "code",
      "source": [
        "X_train_n[columns_to_scale] = standardscaler.fit_transform(X_train_n[columns_to_scale])"
      ],
      "metadata": {
        "id": "SXlAhAgCUBtU"
      },
      "execution_count": 58,
      "outputs": []
    },
    {
      "cell_type": "code",
      "source": [
        "X_train_n.head()"
      ],
      "metadata": {
        "colab": {
          "base_uri": "https://localhost:8080/",
          "height": 300
        },
        "id": "fhrp_VVWUBx0",
        "outputId": "89f93516-97e3-4654-c050-b5ed353bb81b"
      },
      "execution_count": 59,
      "outputs": [
        {
          "output_type": "execute_result",
          "data": {
            "text/plain": [
              "        age  cigsPerDay   totChol     sysBP     diaBP   glucose  \\\n",
              "0 -1.501711   -0.788298 -1.011226 -1.290652 -1.180179 -0.235938   \n",
              "1 -0.657846   -0.788298  0.222146 -0.652820 -0.282402 -0.270323   \n",
              "2 -0.416742    0.868980  0.110022 -0.376426 -0.364018 -0.476634   \n",
              "3  1.150436    1.697619 -0.338477  0.580322  0.860224  0.658077   \n",
              "4 -0.657846    1.117572  1.007020 -0.270121 -0.037553  0.039144   \n",
              "\n",
              "   prevalentHyp_0.0  prevalentHyp_0.0003149991277840991  \\\n",
              "0                 1                                   0   \n",
              "1                 1                                   0   \n",
              "2                 1                                   0   \n",
              "3                 0                                   0   \n",
              "4                 1                                   0   \n",
              "\n",
              "   prevalentHyp_0.001552473295967416  prevalentHyp_0.006298716704580376  ...  \\\n",
              "0                                  0                                  0  ...   \n",
              "1                                  0                                  0  ...   \n",
              "2                                  0                                  0  ...   \n",
              "3                                  0                                  0  ...   \n",
              "4                                  0                                  0  ...   \n",
              "\n",
              "   male_0.9925012847010988  male_0.9938915498420202  male_0.9980775825021148  \\\n",
              "0                        0                        0                        0   \n",
              "1                        0                        0                        0   \n",
              "2                        0                        0                        0   \n",
              "3                        0                        0                        0   \n",
              "4                        0                        0                        0   \n",
              "\n",
              "   male_0.9981019456397495  male_0.9984193175517031  male_0.9987017806735136  \\\n",
              "0                        0                        0                        0   \n",
              "1                        0                        0                        0   \n",
              "2                        0                        0                        0   \n",
              "3                        0                        0                        0   \n",
              "4                        0                        0                        0   \n",
              "\n",
              "   male_0.9988636446052295  male_0.9988934341683796  male_0.9996850008722159  \\\n",
              "0                        0                        0                        0   \n",
              "1                        0                        0                        0   \n",
              "2                        0                        0                        0   \n",
              "3                        0                        0                        0   \n",
              "4                        0                        0                        0   \n",
              "\n",
              "   male_1.0  \n",
              "0         1  \n",
              "1         0  \n",
              "2         1  \n",
              "3         0  \n",
              "4         0  \n",
              "\n",
              "[5 rows x 2486 columns]"
            ],
            "text/html": [
              "\n",
              "  <div id=\"df-5f2d52f0-7988-4329-9578-94d4ec75a8ef\">\n",
              "    <div class=\"colab-df-container\">\n",
              "      <div>\n",
              "<style scoped>\n",
              "    .dataframe tbody tr th:only-of-type {\n",
              "        vertical-align: middle;\n",
              "    }\n",
              "\n",
              "    .dataframe tbody tr th {\n",
              "        vertical-align: top;\n",
              "    }\n",
              "\n",
              "    .dataframe thead th {\n",
              "        text-align: right;\n",
              "    }\n",
              "</style>\n",
              "<table border=\"1\" class=\"dataframe\">\n",
              "  <thead>\n",
              "    <tr style=\"text-align: right;\">\n",
              "      <th></th>\n",
              "      <th>age</th>\n",
              "      <th>cigsPerDay</th>\n",
              "      <th>totChol</th>\n",
              "      <th>sysBP</th>\n",
              "      <th>diaBP</th>\n",
              "      <th>glucose</th>\n",
              "      <th>prevalentHyp_0.0</th>\n",
              "      <th>prevalentHyp_0.0003149991277840991</th>\n",
              "      <th>prevalentHyp_0.001552473295967416</th>\n",
              "      <th>prevalentHyp_0.006298716704580376</th>\n",
              "      <th>...</th>\n",
              "      <th>male_0.9925012847010988</th>\n",
              "      <th>male_0.9938915498420202</th>\n",
              "      <th>male_0.9980775825021148</th>\n",
              "      <th>male_0.9981019456397495</th>\n",
              "      <th>male_0.9984193175517031</th>\n",
              "      <th>male_0.9987017806735136</th>\n",
              "      <th>male_0.9988636446052295</th>\n",
              "      <th>male_0.9988934341683796</th>\n",
              "      <th>male_0.9996850008722159</th>\n",
              "      <th>male_1.0</th>\n",
              "    </tr>\n",
              "  </thead>\n",
              "  <tbody>\n",
              "    <tr>\n",
              "      <th>0</th>\n",
              "      <td>-1.501711</td>\n",
              "      <td>-0.788298</td>\n",
              "      <td>-1.011226</td>\n",
              "      <td>-1.290652</td>\n",
              "      <td>-1.180179</td>\n",
              "      <td>-0.235938</td>\n",
              "      <td>1</td>\n",
              "      <td>0</td>\n",
              "      <td>0</td>\n",
              "      <td>0</td>\n",
              "      <td>...</td>\n",
              "      <td>0</td>\n",
              "      <td>0</td>\n",
              "      <td>0</td>\n",
              "      <td>0</td>\n",
              "      <td>0</td>\n",
              "      <td>0</td>\n",
              "      <td>0</td>\n",
              "      <td>0</td>\n",
              "      <td>0</td>\n",
              "      <td>1</td>\n",
              "    </tr>\n",
              "    <tr>\n",
              "      <th>1</th>\n",
              "      <td>-0.657846</td>\n",
              "      <td>-0.788298</td>\n",
              "      <td>0.222146</td>\n",
              "      <td>-0.652820</td>\n",
              "      <td>-0.282402</td>\n",
              "      <td>-0.270323</td>\n",
              "      <td>1</td>\n",
              "      <td>0</td>\n",
              "      <td>0</td>\n",
              "      <td>0</td>\n",
              "      <td>...</td>\n",
              "      <td>0</td>\n",
              "      <td>0</td>\n",
              "      <td>0</td>\n",
              "      <td>0</td>\n",
              "      <td>0</td>\n",
              "      <td>0</td>\n",
              "      <td>0</td>\n",
              "      <td>0</td>\n",
              "      <td>0</td>\n",
              "      <td>0</td>\n",
              "    </tr>\n",
              "    <tr>\n",
              "      <th>2</th>\n",
              "      <td>-0.416742</td>\n",
              "      <td>0.868980</td>\n",
              "      <td>0.110022</td>\n",
              "      <td>-0.376426</td>\n",
              "      <td>-0.364018</td>\n",
              "      <td>-0.476634</td>\n",
              "      <td>1</td>\n",
              "      <td>0</td>\n",
              "      <td>0</td>\n",
              "      <td>0</td>\n",
              "      <td>...</td>\n",
              "      <td>0</td>\n",
              "      <td>0</td>\n",
              "      <td>0</td>\n",
              "      <td>0</td>\n",
              "      <td>0</td>\n",
              "      <td>0</td>\n",
              "      <td>0</td>\n",
              "      <td>0</td>\n",
              "      <td>0</td>\n",
              "      <td>1</td>\n",
              "    </tr>\n",
              "    <tr>\n",
              "      <th>3</th>\n",
              "      <td>1.150436</td>\n",
              "      <td>1.697619</td>\n",
              "      <td>-0.338477</td>\n",
              "      <td>0.580322</td>\n",
              "      <td>0.860224</td>\n",
              "      <td>0.658077</td>\n",
              "      <td>0</td>\n",
              "      <td>0</td>\n",
              "      <td>0</td>\n",
              "      <td>0</td>\n",
              "      <td>...</td>\n",
              "      <td>0</td>\n",
              "      <td>0</td>\n",
              "      <td>0</td>\n",
              "      <td>0</td>\n",
              "      <td>0</td>\n",
              "      <td>0</td>\n",
              "      <td>0</td>\n",
              "      <td>0</td>\n",
              "      <td>0</td>\n",
              "      <td>0</td>\n",
              "    </tr>\n",
              "    <tr>\n",
              "      <th>4</th>\n",
              "      <td>-0.657846</td>\n",
              "      <td>1.117572</td>\n",
              "      <td>1.007020</td>\n",
              "      <td>-0.270121</td>\n",
              "      <td>-0.037553</td>\n",
              "      <td>0.039144</td>\n",
              "      <td>1</td>\n",
              "      <td>0</td>\n",
              "      <td>0</td>\n",
              "      <td>0</td>\n",
              "      <td>...</td>\n",
              "      <td>0</td>\n",
              "      <td>0</td>\n",
              "      <td>0</td>\n",
              "      <td>0</td>\n",
              "      <td>0</td>\n",
              "      <td>0</td>\n",
              "      <td>0</td>\n",
              "      <td>0</td>\n",
              "      <td>0</td>\n",
              "      <td>0</td>\n",
              "    </tr>\n",
              "  </tbody>\n",
              "</table>\n",
              "<p>5 rows × 2486 columns</p>\n",
              "</div>\n",
              "      <button class=\"colab-df-convert\" onclick=\"convertToInteractive('df-5f2d52f0-7988-4329-9578-94d4ec75a8ef')\"\n",
              "              title=\"Convert this dataframe to an interactive table.\"\n",
              "              style=\"display:none;\">\n",
              "        \n",
              "  <svg xmlns=\"http://www.w3.org/2000/svg\" height=\"24px\"viewBox=\"0 0 24 24\"\n",
              "       width=\"24px\">\n",
              "    <path d=\"M0 0h24v24H0V0z\" fill=\"none\"/>\n",
              "    <path d=\"M18.56 5.44l.94 2.06.94-2.06 2.06-.94-2.06-.94-.94-2.06-.94 2.06-2.06.94zm-11 1L8.5 8.5l.94-2.06 2.06-.94-2.06-.94L8.5 2.5l-.94 2.06-2.06.94zm10 10l.94 2.06.94-2.06 2.06-.94-2.06-.94-.94-2.06-.94 2.06-2.06.94z\"/><path d=\"M17.41 7.96l-1.37-1.37c-.4-.4-.92-.59-1.43-.59-.52 0-1.04.2-1.43.59L10.3 9.45l-7.72 7.72c-.78.78-.78 2.05 0 2.83L4 21.41c.39.39.9.59 1.41.59.51 0 1.02-.2 1.41-.59l7.78-7.78 2.81-2.81c.8-.78.8-2.07 0-2.86zM5.41 20L4 18.59l7.72-7.72 1.47 1.35L5.41 20z\"/>\n",
              "  </svg>\n",
              "      </button>\n",
              "      \n",
              "  <style>\n",
              "    .colab-df-container {\n",
              "      display:flex;\n",
              "      flex-wrap:wrap;\n",
              "      gap: 12px;\n",
              "    }\n",
              "\n",
              "    .colab-df-convert {\n",
              "      background-color: #E8F0FE;\n",
              "      border: none;\n",
              "      border-radius: 50%;\n",
              "      cursor: pointer;\n",
              "      display: none;\n",
              "      fill: #1967D2;\n",
              "      height: 32px;\n",
              "      padding: 0 0 0 0;\n",
              "      width: 32px;\n",
              "    }\n",
              "\n",
              "    .colab-df-convert:hover {\n",
              "      background-color: #E2EBFA;\n",
              "      box-shadow: 0px 1px 2px rgba(60, 64, 67, 0.3), 0px 1px 3px 1px rgba(60, 64, 67, 0.15);\n",
              "      fill: #174EA6;\n",
              "    }\n",
              "\n",
              "    [theme=dark] .colab-df-convert {\n",
              "      background-color: #3B4455;\n",
              "      fill: #D2E3FC;\n",
              "    }\n",
              "\n",
              "    [theme=dark] .colab-df-convert:hover {\n",
              "      background-color: #434B5C;\n",
              "      box-shadow: 0px 1px 3px 1px rgba(0, 0, 0, 0.15);\n",
              "      filter: drop-shadow(0px 1px 2px rgba(0, 0, 0, 0.3));\n",
              "      fill: #FFFFFF;\n",
              "    }\n",
              "  </style>\n",
              "\n",
              "      <script>\n",
              "        const buttonEl =\n",
              "          document.querySelector('#df-5f2d52f0-7988-4329-9578-94d4ec75a8ef button.colab-df-convert');\n",
              "        buttonEl.style.display =\n",
              "          google.colab.kernel.accessAllowed ? 'block' : 'none';\n",
              "\n",
              "        async function convertToInteractive(key) {\n",
              "          const element = document.querySelector('#df-5f2d52f0-7988-4329-9578-94d4ec75a8ef');\n",
              "          const dataTable =\n",
              "            await google.colab.kernel.invokeFunction('convertToInteractive',\n",
              "                                                     [key], {});\n",
              "          if (!dataTable) return;\n",
              "\n",
              "          const docLinkHtml = 'Like what you see? Visit the ' +\n",
              "            '<a target=\"_blank\" href=https://colab.research.google.com/notebooks/data_table.ipynb>data table notebook</a>'\n",
              "            + ' to learn more about interactive tables.';\n",
              "          element.innerHTML = '';\n",
              "          dataTable['output_type'] = 'display_data';\n",
              "          await google.colab.output.renderOutput(dataTable, element);\n",
              "          const docLink = document.createElement('div');\n",
              "          docLink.innerHTML = docLinkHtml;\n",
              "          element.appendChild(docLink);\n",
              "        }\n",
              "      </script>\n",
              "    </div>\n",
              "  </div>\n",
              "  "
            ]
          },
          "metadata": {},
          "execution_count": 59
        }
      ]
    },
    {
      "cell_type": "markdown",
      "source": [
        "**Model**"
      ],
      "metadata": {
        "id": "v0r4u0hVQhjt"
      }
    },
    {
      "cell_type": "code",
      "source": [
        "model = Pipeline([\n",
        "    ('classifier', LogisticRegression(penalty='l2', C=1.5, max_iter=200))\n",
        "])"
      ],
      "metadata": {
        "id": "5wXuKuEhUB03"
      },
      "execution_count": 60,
      "outputs": []
    },
    {
      "cell_type": "code",
      "source": [
        "# Splitting the data to train set and test set\n",
        "X_tr, X_te, y_tr, y_te = train_test_split(\n",
        "    X_train_n,\n",
        "    y_l_rshape,\n",
        "    test_size=0.33,\n",
        "    shuffle=True,\n",
        "    stratify=y_l_rshape,#stratify enforces same proportionality in an inbalance class \n",
        "    random_state=67\n",
        "\n",
        ")"
      ],
      "metadata": {
        "id": "LbOhwIOgUB3v"
      },
      "execution_count": 61,
      "outputs": []
    },
    {
      "cell_type": "code",
      "source": [
        "%%time\n",
        "\n",
        "# Train the model\n",
        "md =model.fit(X_tr,  y_tr.values.ravel())\n",
        "\n",
        "# Predict on evaluation set\n",
        "preds = model.predict(X_te)\n",
        "preds"
      ],
      "metadata": {
        "id": "5k70mdRr-u-l",
        "colab": {
          "base_uri": "https://localhost:8080/"
        },
        "outputId": "1cd8a76f-4bac-43e8-a62d-4b1d6ee3dde5"
      },
      "execution_count": 62,
      "outputs": [
        {
          "output_type": "stream",
          "name": "stdout",
          "text": [
            "CPU times: user 5.73 s, sys: 584 ms, total: 6.32 s\n",
            "Wall time: 3.38 s\n"
          ]
        }
      ]
    },
    {
      "cell_type": "code",
      "source": [
        "predictions = preds.reshape(2327, 1)\n",
        "predictions"
      ],
      "metadata": {
        "colab": {
          "base_uri": "https://localhost:8080/"
        },
        "id": "6rsCh0FAUKPY",
        "outputId": "18ff8beb-e948-4c3d-92d9-b41003e401e0"
      },
      "execution_count": 63,
      "outputs": [
        {
          "output_type": "execute_result",
          "data": {
            "text/plain": [
              "array([[0.],\n",
              "       [1.],\n",
              "       [1.],\n",
              "       ...,\n",
              "       [1.],\n",
              "       [0.],\n",
              "       [0.]])"
            ]
          },
          "metadata": {},
          "execution_count": 63
        }
      ]
    },
    {
      "cell_type": "code",
      "source": [
        "md['classifier'].coef_\n"
      ],
      "metadata": {
        "id": "pwRDMhaK2NyF",
        "colab": {
          "base_uri": "https://localhost:8080/"
        },
        "outputId": "ced45a78-26c2-4fd5-a64d-4d79b7aada3b"
      },
      "execution_count": 64,
      "outputs": [
        {
          "output_type": "execute_result",
          "data": {
            "text/plain": [
              "array([[ 0.61111927,  0.29259243,  0.02948852, ...,  0.02230808,\n",
              "         0.        , -4.76069201]])"
            ]
          },
          "metadata": {},
          "execution_count": 64
        }
      ]
    },
    {
      "cell_type": "code",
      "source": [
        "results = sm.OLS(y_tr, X_tr).fit()"
      ],
      "metadata": {
        "id": "4PYLZv5ROqqY"
      },
      "execution_count": 65,
      "outputs": []
    },
    {
      "cell_type": "code",
      "source": [
        "print(results.summary())"
      ],
      "metadata": {
        "id": "EmlFJvbUQ_IM"
      },
      "execution_count": null,
      "outputs": []
    },
    {
      "cell_type": "markdown",
      "source": [
        "![ols.png](data:image/png;base64,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)"
      ],
      "metadata": {
        "id": "nFTSs7lM3Pxo"
      }
    },
    {
      "cell_type": "markdown",
      "source": [
        "**MODEL EVALUATION**"
      ],
      "metadata": {
        "id": "r2HlPVu7eUne"
      }
    },
    {
      "cell_type": "code",
      "source": [
        "def plot_roc(y_true, y_score, label_name, ax):\n",
        "    '''\n",
        "    Function to plot ROC CURVE used to evaluate model performance\n",
        "    \n",
        "    args:\n",
        "            y_true- true label\n",
        "            y_score- predictions\n",
        "            label_name- \n",
        "            ax- object to attach plot to\n",
        "       \n",
        "    '''\n",
        "    fpr, tpr, thresholds = roc_curve(y_true, y_score)\n",
        "    ax.plot(fpr, tpr)\n",
        "    ax.plot([0, 1], [0, 1], color='grey', linestyle='--')\n",
        "    ax.set_xlabel('TPR')\n",
        "    ax.set_ylabel('FPR')\n",
        "    ax.set_title(\n",
        "        f'{label_name}: AUC = {roc_auc_score(y_true, y_score):.4f}'\n",
        "    \n",
        "    )\n",
        "    "
      ],
      "metadata": {
        "id": "6ctSsA3neRpR"
      },
      "execution_count": 66,
      "outputs": []
    },
    {
      "cell_type": "code",
      "source": [
        "y_te.head()"
      ],
      "metadata": {
        "colab": {
          "base_uri": "https://localhost:8080/"
        },
        "id": "4TyRWNCohUIj",
        "outputId": "02670fbf-4d34-4f71-dfa6-960e1e151d0a"
      },
      "execution_count": 67,
      "outputs": [
        {
          "output_type": "execute_result",
          "data": {
            "text/plain": [
              "2408    0.0\n",
              "5558    1.0\n",
              "6212    1.0\n",
              "1981    0.0\n",
              "1398    0.0\n",
              "Name: TenYearCHD, dtype: float64"
            ]
          },
          "metadata": {},
          "execution_count": 67
        }
      ]
    },
    {
      "cell_type": "code",
      "source": [
        "fig, ax = plt.subplots(1, figsize = (7, 6))\n",
        "\n",
        "plot_roc(\n",
        "    y_te,\n",
        "    predictions,\n",
        "    'TenYearCHD',\n",
        "    ax=ax\n",
        ")\n",
        "\n",
        "fig.tight_layout()"
      ],
      "metadata": {
        "colab": {
          "base_uri": "https://localhost:8080/",
          "height": 441
        },
        "id": "MFTTnm-Iefy3",
        "outputId": "b6b44f56-75b7-42e3-e4d5-1c461c0e9904"
      },
      "execution_count": 69,
      "outputs": [
        {
          "output_type": "display_data",
          "data": {
            "text/plain": [
              "<Figure size 504x432 with 1 Axes>"
            ],
            "image/png": "[encoded data removed]"
          },
          "metadata": {
            "needs_background": "light"
          }
        }
      ]
    },
    {
      "cell_type": "code",
      "source": [
        "score = roc_auc_score(y_te, predictions)\n",
        "score"
      ],
      "metadata": {
        "colab": {
          "base_uri": "https://localhost:8080/"
        },
        "id": "QbLYScBTUKS5",
        "outputId": "b467b32a-167a-4784-d2a1-511dc35eee65"
      },
      "execution_count": 68,
      "outputs": [
        {
          "output_type": "execute_result",
          "data": {
            "text/plain": [
              "0.7821662633372042"
            ]
          },
          "metadata": {},
          "execution_count": 68
        }
      ]
    },
    {
      "cell_type": "code",
      "source": [
        "# Since our model was imbalance we do not consider accuracy\n",
        "model.score(X_te, y_te)"
      ],
      "metadata": {
        "colab": {
          "base_uri": "https://localhost:8080/"
        },
        "id": "RLZ7ddRbUKWF",
        "outputId": "8ecbc9f1-a476-4a32-aa3b-6ea1cb8a8c76"
      },
      "execution_count": 70,
      "outputs": [
        {
          "output_type": "execute_result",
          "data": {
            "text/plain": [
              "0.7821229050279329"
            ]
          },
          "metadata": {},
          "execution_count": 70
        }
      ]
    },
    {
      "cell_type": "code",
      "source": [
        "c_matrix = confusion_matrix(y_te, predictions)\n",
        "c_matrix"
      ],
      "metadata": {
        "id": "65qC1Nku2XTH",
        "colab": {
          "base_uri": "https://localhost:8080/"
        },
        "outputId": "ad411b0d-32fd-46b1-927e-e1732a7c0ad2"
      },
      "execution_count": 71,
      "outputs": [
        {
          "output_type": "execute_result",
          "data": {
            "text/plain": [
              "array([[1027,  136],\n",
              "       [ 371,  793]])"
            ]
          },
          "metadata": {},
          "execution_count": 71
        }
      ]
    },
    {
      "cell_type": "code",
      "source": [
        "cm_display = ConfusionMatrixDisplay(c_matrix).plot()"
      ],
      "metadata": {
        "colab": {
          "base_uri": "https://localhost:8080/",
          "height": 279
        },
        "id": "RgimKeSesQHy",
        "outputId": "3605c511-ac1a-44eb-911e-91f3e37f7a9d"
      },
      "execution_count": 72,
      "outputs": [
        {
          "output_type": "display_data",
          "data": {
            "text/plain": [
              "<Figure size 432x288 with 2 Axes>"
            ],
            "image/png": "[encoded data removed]"
          },
          "metadata": {
            "needs_background": "light"
          }
        }
      ]
    },
    {
      "cell_type": "code",
      "source": [
        "print(classification_report(y_te, predictions))"
      ],
      "metadata": {
        "id": "qdjPkwKI-aPg",
        "colab": {
          "base_uri": "https://localhost:8080/"
        },
        "outputId": "d9357f2a-a95e-41dd-f01e-b4385e191f71"
      },
      "execution_count": 73,
      "outputs": [
        {
          "output_type": "stream",
          "name": "stdout",
          "text": [
            "              precision    recall  f1-score   support\n",
            "\n",
            "         0.0       0.73      0.88      0.80      1163\n",
            "         1.0       0.85      0.68      0.76      1164\n",
            "\n",
            "    accuracy                           0.78      2327\n",
            "   macro avg       0.79      0.78      0.78      2327\n",
            "weighted avg       0.79      0.78      0.78      2327\n",
            "\n"
          ]
        }
      ]
    },
    {
      "cell_type": "markdown",
      "source": [
        "**GRID SEARCH**"
      ],
      "metadata": {
        "id": "JYyb87LOvIxO"
      }
    },
    {
      "cell_type": "code",
      "source": [
        "model.get_params()  "
      ],
      "metadata": {
        "colab": {
          "base_uri": "https://localhost:8080/"
        },
        "id": "zI4KpWj3Xtd3",
        "outputId": "98786753-92f3-4f13-99dd-9e9b3d9385c9"
      },
      "execution_count": 74,
      "outputs": [
        {
          "output_type": "execute_result",
          "data": {
            "text/plain": [
              "{'classifier': LogisticRegression(C=1.5, max_iter=200),\n",
              " 'classifier__C': 1.5,\n",
              " 'classifier__class_weight': None,\n",
              " 'classifier__dual': False,\n",
              " 'classifier__fit_intercept': True,\n",
              " 'classifier__intercept_scaling': 1,\n",
              " 'classifier__l1_ratio': None,\n",
              " 'classifier__max_iter': 200,\n",
              " 'classifier__multi_class': 'auto',\n",
              " 'classifier__n_jobs': None,\n",
              " 'classifier__penalty': 'l2',\n",
              " 'classifier__random_state': None,\n",
              " 'classifier__solver': 'lbfgs',\n",
              " 'classifier__tol': 0.0001,\n",
              " 'classifier__verbose': 0,\n",
              " 'classifier__warm_start': False,\n",
              " 'memory': None,\n",
              " 'steps': [('classifier', LogisticRegression(C=1.5, max_iter=200))],\n",
              " 'verbose': False}"
            ]
          },
          "metadata": {},
          "execution_count": 74
        }
      ]
    },
    {
      "cell_type": "code",
      "source": [
        "param_grid = {'classifier__C':np.arange(0, 2, 0.5)\n",
        "            }\n"
      ],
      "metadata": {
        "id": "j1Zo45ASXttA"
      },
      "execution_count": 84,
      "outputs": []
    },
    {
      "cell_type": "code",
      "source": [
        "grid_search = GridSearchCV(model, param_grid, cv=5, n_jobs=2, verbose=1)\n",
        "grid_search.fit(X_tr,  y_tr)"
      ],
      "metadata": {
        "id": "lfKkEZeAk2O1"
      },
      "execution_count": null,
      "outputs": []
    },
    {
      "cell_type": "code",
      "source": [
        "grid_search.best_params_"
      ],
      "metadata": {
        "colab": {
          "base_uri": "https://localhost:8080/"
        },
        "id": "IzkFxa7OXt1M",
        "outputId": "a44ade47-f163-4e45-9eaa-9beebacc60d9"
      },
      "execution_count": null,
      "outputs": [
        {
          "output_type": "execute_result",
          "data": {
            "text/plain": [
              "{'classifier__C': 1.5}"
            ]
          },
          "metadata": {},
          "execution_count": 85
        }
      ]
    },
    {
      "cell_type": "markdown",
      "source": [
        "### Cache the model because gridsearch takes lots of time to retrain"
      ],
      "metadata": {
        "id": "b0iMc7Vyz_jS"
      }
    },
    {
      "cell_type": "code",
      "source": [
        "from tempfile import mkdtemp\n",
        "from shutil import rmtree\n",
        "\n",
        "cachedir = mkdtemp()\n",
        "cached_model = Pipeline([\n",
        "    ('classifier', LogisticRegression(penalty='l2', C=1.5, max_iter=200))\n",
        "], memory=cachedir)\n",
        "cached_model.fit(X_tr,  y_tr.values.ravel()) "
      ],
      "metadata": {
        "colab": {
          "base_uri": "https://localhost:8080/"
        },
        "id": "hzR62G-Ez9tx",
        "outputId": "83fe9914-8ca3-4fb5-9819-4d142eb57358"
      },
      "execution_count": 78,
      "outputs": [
        {
          "output_type": "execute_result",
          "data": {
            "text/plain": [
              "Pipeline(memory='/tmp/tmp1p_o6acl',\n",
              "         steps=[('classifier', LogisticRegression(C=1.5, max_iter=200))])"
            ]
          },
          "metadata": {},
          "execution_count": 78
        }
      ]
    },
    {
      "cell_type": "code",
      "source": [
        "# select features on training and testing set\n",
        "# Curse of dimensionality due to the increase fatures"
      ],
      "metadata": {
        "id": "KL-2EpEJXt7V"
      },
      "execution_count": null,
      "outputs": []
    }
  ]
}